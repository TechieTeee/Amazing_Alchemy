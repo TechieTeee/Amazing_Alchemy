{
  "nbformat": 4,
  "nbformat_minor": 0,
  "metadata": {
    "colab": {
      "name": "NFT_EDA.ipynb",
      "provenance": [],
      "collapsed_sections": [],
      "authorship_tag": "ABX9TyOrfPs1Wx2hpfxLubEGiqou",
      "include_colab_link": true
    },
    "kernelspec": {
      "name": "python3",
      "display_name": "Python 3"
    },
    "language_info": {
      "name": "python"
    }
  },
  "cells": [
    {
      "cell_type": "markdown",
      "metadata": {
        "id": "view-in-github",
        "colab_type": "text"
      },
      "source": [
        "<a href=\"https://colab.research.google.com/github/TechieTeee/Amazing_Alchemy/blob/master/NFT_EDA.ipynb\" target=\"_parent\"><img src=\"https://colab.research.google.com/assets/colab-badge.svg\" alt=\"Open In Colab\"/></a>"
      ]
    },
    {
      "cell_type": "markdown",
      "source": [
        "# **Import Necesary Libraries**"
      ],
      "metadata": {
        "id": "P4yTALuHEpPI"
      }
    },
    {
      "cell_type": "code",
      "execution_count": 1,
      "metadata": {
        "id": "eFLhm23bCF1T"
      },
      "outputs": [],
      "source": [
        "import numpy as np\n",
        "import pandas as pd\n",
        "import seaborn as sns\n",
        "import sklearn\n",
        "from sklearn import preprocessing\n",
        "from sklearn.ensemble import RandomForestClassifier\n",
        "import matplotlib.pyplot as plt\n",
        "%matplotlib inline"
      ]
    },
    {
      "cell_type": "code",
      "source": [
        "import pandas as pd\n",
        "import numpy as np\n",
        "import seaborn as sns"
      ],
      "metadata": {
        "id": "z8Q8AAQZ8UOl"
      },
      "execution_count": 2,
      "outputs": []
    },
    {
      "cell_type": "code",
      "source": [
        "pd.options.display.max_rows\n",
        "pd.options.display.max_rows = 500\n",
        "pd.options.display.max_rows"
      ],
      "metadata": {
        "colab": {
          "base_uri": "https://localhost:8080/"
        },
        "id": "-B8xXQ51bIux",
        "outputId": "75ecc7d6-7c16-44b5-aa7e-95828aaa51a0"
      },
      "execution_count": 3,
      "outputs": [
        {
          "output_type": "execute_result",
          "data": {
            "text/plain": [
              "500"
            ]
          },
          "metadata": {},
          "execution_count": 3
        }
      ]
    },
    {
      "cell_type": "markdown",
      "source": [
        "# **Upload Data from Local Storage**"
      ],
      "metadata": {
        "id": "pm0ctTrhHi7d"
      }
    },
    {
      "cell_type": "code",
      "source": [
        "#Load CSV File of Data into the Google Colab Environment\n",
        "from google.colab import files\n",
        "upload = files.upload()"
      ],
      "metadata": {
        "id": "6FwcXfEcEoS1",
        "colab": {
          "resources": {
            "http://localhost:8080/nbextensions/google.colab/files.js": {
              "data": "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",
              "ok": true,
              "headers": [
                [
                  "content-type",
                  "application/javascript"
                ]
              ],
              "status": 200,
              "status_text": ""
            }
          },
          "base_uri": "https://localhost:8080/",
          "height": 73
        },
        "outputId": "529d9d29-bf49-40fa-c04b-27a0f492e3c7"
      },
      "execution_count": 4,
      "outputs": [
        {
          "output_type": "display_data",
          "data": {
            "text/plain": [
              "<IPython.core.display.HTML object>"
            ],
            "text/html": [
              "\n",
              "     <input type=\"file\" id=\"files-4e2ef320-67a6-43a3-b77d-724e1ea9357c\" name=\"files[]\" multiple disabled\n",
              "        style=\"border:none\" />\n",
              "     <output id=\"result-4e2ef320-67a6-43a3-b77d-724e1ea9357c\">\n",
              "      Upload widget is only available when the cell has been executed in the\n",
              "      current browser session. Please rerun this cell to enable.\n",
              "      </output>\n",
              "      <script src=\"/nbextensions/google.colab/files.js\"></script> "
            ]
          },
          "metadata": {}
        },
        {
          "output_type": "stream",
          "name": "stdout",
          "text": [
            "Saving nft_sales_v3004.csv to nft_sales_v3004.csv\n"
          ]
        }
      ]
    },
    {
      "cell_type": "code",
      "source": [
        "#Store Data into Dataframe for Local Notebook Space\n",
        "df = pd.read_csv('nft_sales_v3004.csv')"
      ],
      "metadata": {
        "id": "ERTvKz6f5nf2"
      },
      "execution_count": 5,
      "outputs": []
    },
    {
      "cell_type": "markdown",
      "source": [
        "# **Explore Data**"
      ],
      "metadata": {
        "id": "roF4j1Ji6PeA"
      }
    },
    {
      "cell_type": "code",
      "source": [
        "#Dataframe Head\n",
        "df.head()"
      ],
      "metadata": {
        "colab": {
          "base_uri": "https://localhost:8080/",
          "height": 206
        },
        "id": "74T20Kwk9JO2",
        "outputId": "cde13dcf-d69f-4c38-bcdb-72c6d6fed48c"
      },
      "execution_count": 6,
      "outputs": [
        {
          "output_type": "execute_result",
          "data": {
            "text/plain": [
              "             Collections           Sales     Buyers        Txns     Owners\n",
              "0          Axie Infinity  $4,065,032,779  1,724,932  15,829,552  2,560,082\n",
              "1            CryptoPunks  $2,219,339,345      5,489      20,892      3,634\n",
              "2   Bored Ape Yacht Club  $1,918,212,623     10,878      28,329        NaN\n",
              "3  Mutant Ape Yacht Club  $1,357,836,830     19,663      36,153        NaN\n",
              "4             Art Blocks  $1,234,293,195     28,912     153,656     33,996"
            ],
            "text/html": [
              "\n",
              "  <div id=\"df-b8e19ab9-3953-4642-a796-6e984d3a3f44\">\n",
              "    <div class=\"colab-df-container\">\n",
              "      <div>\n",
              "<style scoped>\n",
              "    .dataframe tbody tr th:only-of-type {\n",
              "        vertical-align: middle;\n",
              "    }\n",
              "\n",
              "    .dataframe tbody tr th {\n",
              "        vertical-align: top;\n",
              "    }\n",
              "\n",
              "    .dataframe thead th {\n",
              "        text-align: right;\n",
              "    }\n",
              "</style>\n",
              "<table border=\"1\" class=\"dataframe\">\n",
              "  <thead>\n",
              "    <tr style=\"text-align: right;\">\n",
              "      <th></th>\n",
              "      <th>Collections</th>\n",
              "      <th>Sales</th>\n",
              "      <th>Buyers</th>\n",
              "      <th>Txns</th>\n",
              "      <th>Owners</th>\n",
              "    </tr>\n",
              "  </thead>\n",
              "  <tbody>\n",
              "    <tr>\n",
              "      <th>0</th>\n",
              "      <td>Axie Infinity</td>\n",
              "      <td>$4,065,032,779</td>\n",
              "      <td>1,724,932</td>\n",
              "      <td>15,829,552</td>\n",
              "      <td>2,560,082</td>\n",
              "    </tr>\n",
              "    <tr>\n",
              "      <th>1</th>\n",
              "      <td>CryptoPunks</td>\n",
              "      <td>$2,219,339,345</td>\n",
              "      <td>5,489</td>\n",
              "      <td>20,892</td>\n",
              "      <td>3,634</td>\n",
              "    </tr>\n",
              "    <tr>\n",
              "      <th>2</th>\n",
              "      <td>Bored Ape Yacht Club</td>\n",
              "      <td>$1,918,212,623</td>\n",
              "      <td>10,878</td>\n",
              "      <td>28,329</td>\n",
              "      <td>NaN</td>\n",
              "    </tr>\n",
              "    <tr>\n",
              "      <th>3</th>\n",
              "      <td>Mutant Ape Yacht Club</td>\n",
              "      <td>$1,357,836,830</td>\n",
              "      <td>19,663</td>\n",
              "      <td>36,153</td>\n",
              "      <td>NaN</td>\n",
              "    </tr>\n",
              "    <tr>\n",
              "      <th>4</th>\n",
              "      <td>Art Blocks</td>\n",
              "      <td>$1,234,293,195</td>\n",
              "      <td>28,912</td>\n",
              "      <td>153,656</td>\n",
              "      <td>33,996</td>\n",
              "    </tr>\n",
              "  </tbody>\n",
              "</table>\n",
              "</div>\n",
              "      <button class=\"colab-df-convert\" onclick=\"convertToInteractive('df-b8e19ab9-3953-4642-a796-6e984d3a3f44')\"\n",
              "              title=\"Convert this dataframe to an interactive table.\"\n",
              "              style=\"display:none;\">\n",
              "        \n",
              "  <svg xmlns=\"http://www.w3.org/2000/svg\" height=\"24px\"viewBox=\"0 0 24 24\"\n",
              "       width=\"24px\">\n",
              "    <path d=\"M0 0h24v24H0V0z\" fill=\"none\"/>\n",
              "    <path d=\"M18.56 5.44l.94 2.06.94-2.06 2.06-.94-2.06-.94-.94-2.06-.94 2.06-2.06.94zm-11 1L8.5 8.5l.94-2.06 2.06-.94-2.06-.94L8.5 2.5l-.94 2.06-2.06.94zm10 10l.94 2.06.94-2.06 2.06-.94-2.06-.94-.94-2.06-.94 2.06-2.06.94z\"/><path d=\"M17.41 7.96l-1.37-1.37c-.4-.4-.92-.59-1.43-.59-.52 0-1.04.2-1.43.59L10.3 9.45l-7.72 7.72c-.78.78-.78 2.05 0 2.83L4 21.41c.39.39.9.59 1.41.59.51 0 1.02-.2 1.41-.59l7.78-7.78 2.81-2.81c.8-.78.8-2.07 0-2.86zM5.41 20L4 18.59l7.72-7.72 1.47 1.35L5.41 20z\"/>\n",
              "  </svg>\n",
              "      </button>\n",
              "      \n",
              "  <style>\n",
              "    .colab-df-container {\n",
              "      display:flex;\n",
              "      flex-wrap:wrap;\n",
              "      gap: 12px;\n",
              "    }\n",
              "\n",
              "    .colab-df-convert {\n",
              "      background-color: #E8F0FE;\n",
              "      border: none;\n",
              "      border-radius: 50%;\n",
              "      cursor: pointer;\n",
              "      display: none;\n",
              "      fill: #1967D2;\n",
              "      height: 32px;\n",
              "      padding: 0 0 0 0;\n",
              "      width: 32px;\n",
              "    }\n",
              "\n",
              "    .colab-df-convert:hover {\n",
              "      background-color: #E2EBFA;\n",
              "      box-shadow: 0px 1px 2px rgba(60, 64, 67, 0.3), 0px 1px 3px 1px rgba(60, 64, 67, 0.15);\n",
              "      fill: #174EA6;\n",
              "    }\n",
              "\n",
              "    [theme=dark] .colab-df-convert {\n",
              "      background-color: #3B4455;\n",
              "      fill: #D2E3FC;\n",
              "    }\n",
              "\n",
              "    [theme=dark] .colab-df-convert:hover {\n",
              "      background-color: #434B5C;\n",
              "      box-shadow: 0px 1px 3px 1px rgba(0, 0, 0, 0.15);\n",
              "      filter: drop-shadow(0px 1px 2px rgba(0, 0, 0, 0.3));\n",
              "      fill: #FFFFFF;\n",
              "    }\n",
              "  </style>\n",
              "\n",
              "      <script>\n",
              "        const buttonEl =\n",
              "          document.querySelector('#df-b8e19ab9-3953-4642-a796-6e984d3a3f44 button.colab-df-convert');\n",
              "        buttonEl.style.display =\n",
              "          google.colab.kernel.accessAllowed ? 'block' : 'none';\n",
              "\n",
              "        async function convertToInteractive(key) {\n",
              "          const element = document.querySelector('#df-b8e19ab9-3953-4642-a796-6e984d3a3f44');\n",
              "          const dataTable =\n",
              "            await google.colab.kernel.invokeFunction('convertToInteractive',\n",
              "                                                     [key], {});\n",
              "          if (!dataTable) return;\n",
              "\n",
              "          const docLinkHtml = 'Like what you see? Visit the ' +\n",
              "            '<a target=\"_blank\" href=https://colab.research.google.com/notebooks/data_table.ipynb>data table notebook</a>'\n",
              "            + ' to learn more about interactive tables.';\n",
              "          element.innerHTML = '';\n",
              "          dataTable['output_type'] = 'display_data';\n",
              "          await google.colab.output.renderOutput(dataTable, element);\n",
              "          const docLink = document.createElement('div');\n",
              "          docLink.innerHTML = docLinkHtml;\n",
              "          element.appendChild(docLink);\n",
              "        }\n",
              "      </script>\n",
              "    </div>\n",
              "  </div>\n",
              "  "
            ]
          },
          "metadata": {},
          "execution_count": 6
        }
      ]
    },
    {
      "cell_type": "code",
      "source": [
        "#Shape of Dataset\n",
        "df.shape"
      ],
      "metadata": {
        "colab": {
          "base_uri": "https://localhost:8080/"
        },
        "id": "DkH-vrCYoRX7",
        "outputId": "ced22557-d399-4b21-998c-642c4f24641a"
      },
      "execution_count": 7,
      "outputs": [
        {
          "output_type": "execute_result",
          "data": {
            "text/plain": [
              "(250, 5)"
            ]
          },
          "metadata": {},
          "execution_count": 7
        }
      ]
    },
    {
      "cell_type": "code",
      "source": [
        "#List Column Names\n",
        "list(df.columns.values)"
      ],
      "metadata": {
        "colab": {
          "base_uri": "https://localhost:8080/"
        },
        "id": "eBOeicN7eLbG",
        "outputId": "6a021c49-76e6-4e15-8819-1c83082c9500"
      },
      "execution_count": 8,
      "outputs": [
        {
          "output_type": "execute_result",
          "data": {
            "text/plain": [
              "['Collections', 'Sales', 'Buyers', 'Txns', 'Owners']"
            ]
          },
          "metadata": {},
          "execution_count": 8
        }
      ]
    },
    {
      "cell_type": "code",
      "source": [
        "#Datatypes\n",
        "df.dtypes"
      ],
      "metadata": {
        "colab": {
          "base_uri": "https://localhost:8080/"
        },
        "id": "G9fYpe3Q-Z76",
        "outputId": "87f9dea3-2c1f-408a-a45e-1050ecd71bc9"
      },
      "execution_count": 9,
      "outputs": [
        {
          "output_type": "execute_result",
          "data": {
            "text/plain": [
              "Collections    object\n",
              "Sales          object\n",
              "Buyers         object\n",
              "Txns           object\n",
              "Owners         object\n",
              "dtype: object"
            ]
          },
          "metadata": {},
          "execution_count": 9
        }
      ]
    },
    {
      "cell_type": "code",
      "source": [
        "#Dataframe Summary\n",
        "df.info()"
      ],
      "metadata": {
        "colab": {
          "base_uri": "https://localhost:8080/"
        },
        "id": "PAq1QJva6URp",
        "outputId": "59609291-a7e1-466e-cdd9-beeb0229b5f2"
      },
      "execution_count": 10,
      "outputs": [
        {
          "output_type": "stream",
          "name": "stdout",
          "text": [
            "<class 'pandas.core.frame.DataFrame'>\n",
            "RangeIndex: 250 entries, 0 to 249\n",
            "Data columns (total 5 columns):\n",
            " #   Column       Non-Null Count  Dtype \n",
            "---  ------       --------------  ----- \n",
            " 0   Collections  250 non-null    object\n",
            " 1   Sales        250 non-null    object\n",
            " 2   Buyers       250 non-null    object\n",
            " 3   Txns         250 non-null    object\n",
            " 4   Owners       122 non-null    object\n",
            "dtypes: object(5)\n",
            "memory usage: 9.9+ KB\n"
          ]
        }
      ]
    },
    {
      "cell_type": "code",
      "source": [
        "#Dataframe Description\n",
        "df.describe()"
      ],
      "metadata": {
        "colab": {
          "base_uri": "https://localhost:8080/",
          "height": 175
        },
        "id": "hJjkKRmw9Pcd",
        "outputId": "48fbfe85-d368-44ad-e9f1-1cb16ca4c178"
      },
      "execution_count": 11,
      "outputs": [
        {
          "output_type": "execute_result",
          "data": {
            "text/plain": [
              "          Collections           Sales Buyers        Txns Owners\n",
              "count             250             250    250         250    122\n",
              "unique            250             250    248         250    116\n",
              "top     Axie Infinity  $4,065,032,779  4,541  15,829,552      1\n",
              "freq                1               1      2           1      7"
            ],
            "text/html": [
              "\n",
              "  <div id=\"df-007c024e-9cd6-4151-9419-911dcb7a258a\">\n",
              "    <div class=\"colab-df-container\">\n",
              "      <div>\n",
              "<style scoped>\n",
              "    .dataframe tbody tr th:only-of-type {\n",
              "        vertical-align: middle;\n",
              "    }\n",
              "\n",
              "    .dataframe tbody tr th {\n",
              "        vertical-align: top;\n",
              "    }\n",
              "\n",
              "    .dataframe thead th {\n",
              "        text-align: right;\n",
              "    }\n",
              "</style>\n",
              "<table border=\"1\" class=\"dataframe\">\n",
              "  <thead>\n",
              "    <tr style=\"text-align: right;\">\n",
              "      <th></th>\n",
              "      <th>Collections</th>\n",
              "      <th>Sales</th>\n",
              "      <th>Buyers</th>\n",
              "      <th>Txns</th>\n",
              "      <th>Owners</th>\n",
              "    </tr>\n",
              "  </thead>\n",
              "  <tbody>\n",
              "    <tr>\n",
              "      <th>count</th>\n",
              "      <td>250</td>\n",
              "      <td>250</td>\n",
              "      <td>250</td>\n",
              "      <td>250</td>\n",
              "      <td>122</td>\n",
              "    </tr>\n",
              "    <tr>\n",
              "      <th>unique</th>\n",
              "      <td>250</td>\n",
              "      <td>250</td>\n",
              "      <td>248</td>\n",
              "      <td>250</td>\n",
              "      <td>116</td>\n",
              "    </tr>\n",
              "    <tr>\n",
              "      <th>top</th>\n",
              "      <td>Axie Infinity</td>\n",
              "      <td>$4,065,032,779</td>\n",
              "      <td>4,541</td>\n",
              "      <td>15,829,552</td>\n",
              "      <td>1</td>\n",
              "    </tr>\n",
              "    <tr>\n",
              "      <th>freq</th>\n",
              "      <td>1</td>\n",
              "      <td>1</td>\n",
              "      <td>2</td>\n",
              "      <td>1</td>\n",
              "      <td>7</td>\n",
              "    </tr>\n",
              "  </tbody>\n",
              "</table>\n",
              "</div>\n",
              "      <button class=\"colab-df-convert\" onclick=\"convertToInteractive('df-007c024e-9cd6-4151-9419-911dcb7a258a')\"\n",
              "              title=\"Convert this dataframe to an interactive table.\"\n",
              "              style=\"display:none;\">\n",
              "        \n",
              "  <svg xmlns=\"http://www.w3.org/2000/svg\" height=\"24px\"viewBox=\"0 0 24 24\"\n",
              "       width=\"24px\">\n",
              "    <path d=\"M0 0h24v24H0V0z\" fill=\"none\"/>\n",
              "    <path d=\"M18.56 5.44l.94 2.06.94-2.06 2.06-.94-2.06-.94-.94-2.06-.94 2.06-2.06.94zm-11 1L8.5 8.5l.94-2.06 2.06-.94-2.06-.94L8.5 2.5l-.94 2.06-2.06.94zm10 10l.94 2.06.94-2.06 2.06-.94-2.06-.94-.94-2.06-.94 2.06-2.06.94z\"/><path d=\"M17.41 7.96l-1.37-1.37c-.4-.4-.92-.59-1.43-.59-.52 0-1.04.2-1.43.59L10.3 9.45l-7.72 7.72c-.78.78-.78 2.05 0 2.83L4 21.41c.39.39.9.59 1.41.59.51 0 1.02-.2 1.41-.59l7.78-7.78 2.81-2.81c.8-.78.8-2.07 0-2.86zM5.41 20L4 18.59l7.72-7.72 1.47 1.35L5.41 20z\"/>\n",
              "  </svg>\n",
              "      </button>\n",
              "      \n",
              "  <style>\n",
              "    .colab-df-container {\n",
              "      display:flex;\n",
              "      flex-wrap:wrap;\n",
              "      gap: 12px;\n",
              "    }\n",
              "\n",
              "    .colab-df-convert {\n",
              "      background-color: #E8F0FE;\n",
              "      border: none;\n",
              "      border-radius: 50%;\n",
              "      cursor: pointer;\n",
              "      display: none;\n",
              "      fill: #1967D2;\n",
              "      height: 32px;\n",
              "      padding: 0 0 0 0;\n",
              "      width: 32px;\n",
              "    }\n",
              "\n",
              "    .colab-df-convert:hover {\n",
              "      background-color: #E2EBFA;\n",
              "      box-shadow: 0px 1px 2px rgba(60, 64, 67, 0.3), 0px 1px 3px 1px rgba(60, 64, 67, 0.15);\n",
              "      fill: #174EA6;\n",
              "    }\n",
              "\n",
              "    [theme=dark] .colab-df-convert {\n",
              "      background-color: #3B4455;\n",
              "      fill: #D2E3FC;\n",
              "    }\n",
              "\n",
              "    [theme=dark] .colab-df-convert:hover {\n",
              "      background-color: #434B5C;\n",
              "      box-shadow: 0px 1px 3px 1px rgba(0, 0, 0, 0.15);\n",
              "      filter: drop-shadow(0px 1px 2px rgba(0, 0, 0, 0.3));\n",
              "      fill: #FFFFFF;\n",
              "    }\n",
              "  </style>\n",
              "\n",
              "      <script>\n",
              "        const buttonEl =\n",
              "          document.querySelector('#df-007c024e-9cd6-4151-9419-911dcb7a258a button.colab-df-convert');\n",
              "        buttonEl.style.display =\n",
              "          google.colab.kernel.accessAllowed ? 'block' : 'none';\n",
              "\n",
              "        async function convertToInteractive(key) {\n",
              "          const element = document.querySelector('#df-007c024e-9cd6-4151-9419-911dcb7a258a');\n",
              "          const dataTable =\n",
              "            await google.colab.kernel.invokeFunction('convertToInteractive',\n",
              "                                                     [key], {});\n",
              "          if (!dataTable) return;\n",
              "\n",
              "          const docLinkHtml = 'Like what you see? Visit the ' +\n",
              "            '<a target=\"_blank\" href=https://colab.research.google.com/notebooks/data_table.ipynb>data table notebook</a>'\n",
              "            + ' to learn more about interactive tables.';\n",
              "          element.innerHTML = '';\n",
              "          dataTable['output_type'] = 'display_data';\n",
              "          await google.colab.output.renderOutput(dataTable, element);\n",
              "          const docLink = document.createElement('div');\n",
              "          docLink.innerHTML = docLinkHtml;\n",
              "          element.appendChild(docLink);\n",
              "        }\n",
              "      </script>\n",
              "    </div>\n",
              "  </div>\n",
              "  "
            ]
          },
          "metadata": {},
          "execution_count": 11
        }
      ]
    },
    {
      "cell_type": "code",
      "source": [
        "#Find the duplicates\n",
        "#All patients are unique- just sanity check\n",
        "df.duplicated().sum()"
      ],
      "metadata": {
        "colab": {
          "base_uri": "https://localhost:8080/"
        },
        "id": "z5A-gFtg9eg2",
        "outputId": "e2082a93-8eb0-4e8b-ddb5-7f553ac7036f"
      },
      "execution_count": 12,
      "outputs": [
        {
          "output_type": "execute_result",
          "data": {
            "text/plain": [
              "0"
            ]
          },
          "metadata": {},
          "execution_count": 12
        }
      ]
    },
    {
      "cell_type": "code",
      "source": [
        "#Find null values\n",
        "df.isnull().sum()\n",
        "#SES and MMSE have all of the missing values. SES contains the majority of the missing values."
      ],
      "metadata": {
        "colab": {
          "base_uri": "https://localhost:8080/"
        },
        "id": "lOH1hh7h-L7a",
        "outputId": "73e249ca-4307-49c9-fec4-bd964cef7a98"
      },
      "execution_count": 16,
      "outputs": [
        {
          "output_type": "execute_result",
          "data": {
            "text/plain": [
              "Collections      0\n",
              "Sales            0\n",
              "Buyers           0\n",
              "Txns             0\n",
              "Owners         128\n",
              "dtype: int64"
            ]
          },
          "metadata": {},
          "execution_count": 16
        }
      ]
    },
    {
      "cell_type": "markdown",
      "source": [
        "# **Data Viz**"
      ],
      "metadata": {
        "id": "iCj_BRu13Vzu"
      }
    },
    {
      "cell_type": "code",
      "source": [
        "#Plot the Unique values CDR\n",
        "sns.countplot(df['Collections']).unique()"
      ],
      "metadata": {
        "colab": {
          "base_uri": "https://localhost:8080/",
          "height": 500
        },
        "id": "qx9g7BaS9k1O",
        "outputId": "04b80291-0f17-4a15-9936-b12d32af58a0"
      },
      "execution_count": 17,
      "outputs": [
        {
          "output_type": "stream",
          "name": "stderr",
          "text": [
            "/usr/local/lib/python3.7/dist-packages/seaborn/_decorators.py:43: FutureWarning: Pass the following variable as a keyword arg: x. From version 0.12, the only valid positional argument will be `data`, and passing other arguments without an explicit keyword will result in an error or misinterpretation.\n",
            "  FutureWarning\n"
          ]
        },
        {
          "output_type": "error",
          "ename": "AttributeError",
          "evalue": "ignored",
          "traceback": [
            "\u001b[0;31m---------------------------------------------------------------------------\u001b[0m",
            "\u001b[0;31mAttributeError\u001b[0m                            Traceback (most recent call last)",
            "\u001b[0;32m<ipython-input-17-5280f961251f>\u001b[0m in \u001b[0;36m<module>\u001b[0;34m()\u001b[0m\n\u001b[1;32m      1\u001b[0m \u001b[0;31m#Plot the Unique values CDR\u001b[0m\u001b[0;34m\u001b[0m\u001b[0;34m\u001b[0m\u001b[0;34m\u001b[0m\u001b[0m\n\u001b[0;32m----> 2\u001b[0;31m \u001b[0msns\u001b[0m\u001b[0;34m.\u001b[0m\u001b[0mcountplot\u001b[0m\u001b[0;34m(\u001b[0m\u001b[0mdf\u001b[0m\u001b[0;34m[\u001b[0m\u001b[0;34m'Collections'\u001b[0m\u001b[0;34m]\u001b[0m\u001b[0;34m)\u001b[0m\u001b[0;34m.\u001b[0m\u001b[0munique\u001b[0m\u001b[0;34m(\u001b[0m\u001b[0;34m)\u001b[0m\u001b[0;34m\u001b[0m\u001b[0;34m\u001b[0m\u001b[0m\n\u001b[0m",
            "\u001b[0;31mAttributeError\u001b[0m: 'AxesSubplot' object has no attribute 'unique'"
          ]
        },
        {
          "output_type": "display_data",
          "data": {
            "text/plain": [
              "<Figure size 432x288 with 1 Axes>"
            ],
            "image/png": "[encoded data removed]"
          },
          "metadata": {
            "needs_background": "light"
          }
        }
      ]
    },
    {
      "cell_type": "code",
      "source": [
        "#Plot the Unique values Group\n",
        "sns.countplot(df['Group']).unique()"
      ],
      "metadata": {
        "colab": {
          "base_uri": "https://localhost:8080/",
          "height": 500
        },
        "id": "4ciSdC3c4HNq",
        "outputId": "1194092e-7a47-43b9-c58d-581be727090d"
      },
      "execution_count": null,
      "outputs": [
        {
          "output_type": "stream",
          "name": "stderr",
          "text": [
            "/usr/local/lib/python3.7/dist-packages/seaborn/_decorators.py:43: FutureWarning: Pass the following variable as a keyword arg: x. From version 0.12, the only valid positional argument will be `data`, and passing other arguments without an explicit keyword will result in an error or misinterpretation.\n",
            "  FutureWarning\n"
          ]
        },
        {
          "output_type": "error",
          "ename": "AttributeError",
          "evalue": "ignored",
          "traceback": [
            "\u001b[0;31m---------------------------------------------------------------------------\u001b[0m",
            "\u001b[0;31mAttributeError\u001b[0m                            Traceback (most recent call last)",
            "\u001b[0;32m<ipython-input-32-1bff2bcf3b32>\u001b[0m in \u001b[0;36m<module>\u001b[0;34m()\u001b[0m\n\u001b[1;32m      1\u001b[0m \u001b[0;31m#Plot the Unique values Group\u001b[0m\u001b[0;34m\u001b[0m\u001b[0;34m\u001b[0m\u001b[0;34m\u001b[0m\u001b[0m\n\u001b[0;32m----> 2\u001b[0;31m \u001b[0msns\u001b[0m\u001b[0;34m.\u001b[0m\u001b[0mcountplot\u001b[0m\u001b[0;34m(\u001b[0m\u001b[0mdf\u001b[0m\u001b[0;34m[\u001b[0m\u001b[0;34m'Group'\u001b[0m\u001b[0;34m]\u001b[0m\u001b[0;34m)\u001b[0m\u001b[0;34m.\u001b[0m\u001b[0munique\u001b[0m\u001b[0;34m(\u001b[0m\u001b[0;34m)\u001b[0m\u001b[0;34m\u001b[0m\u001b[0;34m\u001b[0m\u001b[0m\n\u001b[0m",
            "\u001b[0;31mAttributeError\u001b[0m: 'AxesSubplot' object has no attribute 'unique'"
          ]
        },
        {
          "output_type": "display_data",
          "data": {
            "text/plain": [
              "<Figure size 432x288 with 1 Axes>"
            ],
            "image/png": "[encoded data removed]"
          },
          "metadata": {
            "needs_background": "light"
          }
        }
      ]
    },
    {
      "cell_type": "code",
      "source": [
        "#Histogram of the CDR Distributions\n",
        "df.CDR.hist()"
      ],
      "metadata": {
        "colab": {
          "base_uri": "https://localhost:8080/",
          "height": 282
        },
        "id": "FPtjnZHI3ZVG",
        "outputId": "473f5a6f-78d4-4c5a-c64d-e1c8fff85ee8"
      },
      "execution_count": null,
      "outputs": [
        {
          "output_type": "execute_result",
          "data": {
            "text/plain": [
              "<matplotlib.axes._subplots.AxesSubplot at 0x7f9885a9e310>"
            ]
          },
          "metadata": {},
          "execution_count": 33
        },
        {
          "output_type": "display_data",
          "data": {
            "text/plain": [
              "<Figure size 432x288 with 1 Axes>"
            ],
            "image/png": "[encoded data removed]"
          },
          "metadata": {
            "needs_background": "light"
          }
        }
      ]
    },
    {
      "cell_type": "code",
      "source": [
        "#Histogram of the Group Distributions\n",
        "df.Group.hist()"
      ],
      "metadata": {
        "colab": {
          "base_uri": "https://localhost:8080/",
          "height": 288
        },
        "id": "_PjpIZRw4CdE",
        "outputId": "6d5d23d9-475e-4d75-8f23-8f69a7698fd4"
      },
      "execution_count": null,
      "outputs": [
        {
          "output_type": "execute_result",
          "data": {
            "text/plain": [
              "<matplotlib.axes._subplots.AxesSubplot at 0x7f27600ab2d0>"
            ]
          },
          "metadata": {},
          "execution_count": 103
        },
        {
          "output_type": "display_data",
          "data": {
            "text/plain": [
              "<Figure size 432x288 with 1 Axes>"
            ],
            "image/png": "[encoded data removed]"
          },
          "metadata": {
            "image/png": {
              "width": 402,
              "height": 254
            },
            "needs_background": "light"
          }
        }
      ]
    },
    {
      "cell_type": "code",
      "source": [
        "#CDR Value Counts\n",
        "df.CDR.value_counts()"
      ],
      "metadata": {
        "colab": {
          "base_uri": "https://localhost:8080/"
        },
        "id": "j7QOYIZh3m8f",
        "outputId": "b32b348d-c399-4951-a5f8-871d71bc10be"
      },
      "execution_count": null,
      "outputs": [
        {
          "output_type": "execute_result",
          "data": {
            "text/plain": [
              "0.0    206\n",
              "0.5    123\n",
              "1.0     41\n",
              "2.0      3\n",
              "Name: CDR, dtype: int64"
            ]
          },
          "metadata": {},
          "execution_count": 34
        }
      ]
    },
    {
      "cell_type": "code",
      "source": [
        "#Group Value Counts\n",
        "df.Group.value_counts()"
      ],
      "metadata": {
        "colab": {
          "base_uri": "https://localhost:8080/"
        },
        "id": "yJrmYTxi4VJD",
        "outputId": "5d5eaf82-c4e3-4858-cd55-dad1da3b1017"
      },
      "execution_count": null,
      "outputs": [
        {
          "output_type": "execute_result",
          "data": {
            "text/plain": [
              "Nondemented    190\n",
              "Demented       146\n",
              "Converted       37\n",
              "Name: Group, dtype: int64"
            ]
          },
          "metadata": {},
          "execution_count": 35
        }
      ]
    },
    {
      "cell_type": "code",
      "source": [
        "#Boxplot of CDR distribution\n",
        "df[['CDR']].boxplot()"
      ],
      "metadata": {
        "colab": {
          "base_uri": "https://localhost:8080/",
          "height": 282
        },
        "id": "QTzUiO3p_G1r",
        "outputId": "d1b9171d-2b09-4cbd-f838-ba9475a379e1"
      },
      "execution_count": null,
      "outputs": [
        {
          "output_type": "execute_result",
          "data": {
            "text/plain": [
              "<matplotlib.axes._subplots.AxesSubplot at 0x7f98859f11d0>"
            ]
          },
          "metadata": {},
          "execution_count": 36
        },
        {
          "output_type": "display_data",
          "data": {
            "text/plain": [
              "<Figure size 432x288 with 1 Axes>"
            ],
            "image/png": "[encoded data removed]"
          },
          "metadata": {
            "needs_background": "light"
          }
        }
      ]
    },
    {
      "cell_type": "markdown",
      "source": [
        "# **EDA Part 2: Feature Importance and Correlation Between Features**"
      ],
      "metadata": {
        "id": "bHy6cJlP_Un7"
      }
    },
    {
      "cell_type": "markdown",
      "source": [
        "**Boruta Wrapper: Feature Importance**\n",
        "Ran in R Studio Cloud and will put code output here.\n"
      ],
      "metadata": {
        "id": "mzmP8iENHr0M"
      }
    },
    {
      "cell_type": "markdown",
      "source": [
        "![Brainlings_Dementia_Boruta_Output.JPG](data:image/jpeg;base64,/9j/4AAQSkZJRgABAQEAYABgAAD/4RDsRXhpZgAATU0AKgAAAAgABAE7AAIAAAALAAAISodpAAQAAAABAAAIVpydAAEAAAAWAAAQzuocAAcAAAgMAAAAPgAAAAAc6gAAAAgAAAAAAAAAAAAAAAAAAAAAAAAAAAAAAAAAAAAAAAAAAAAAAAAAAAAAAAAAAAAAAAAAAAAAAAAAAAAAAAAAAAAAAAAAAAAAAAAAAAAAAAAAAAAAAAAAAAAAAAAAAAAAAAAAAAAAAAAAAAAAAAAAAAAAAAAAAAAAAAAAAAAAAAAAAAAAAAAAAAAAAAAAAAAAAAAAAAAAAAAAAAAAAAAAAAAAAAAAAAAAAAAAAAAAAAAAAAAAAAAAAAAAAAAAAAAAAAAAAAAAAAAAAAAAAAAAAAAAAAAAAAAAAAAAAAAAAAAAAAAAAAAAAAAAAAAAAAAAAAAAAAAAAAAAAAAAAAAAAAAAAAAAAAAAAAAAAAAAAAAAAAAAAAAAAAAAAAAAAAAAAAAAAAAAAAAAAAAAAAAAAAAAAAAAAAAAAAAAAAAAAAAAAAAAAAAAAAAAAAAAAAAAAAAAAAAAAAAAAAAAAAAAAAAAAAAAAAAAAAAAAAAAAAAAAAAAAAAAAAAAAAAAAAAAAAAAAAAAAAAAAAAAAAAAAAAAAAAAAAAAAAAAAAAAAAAAAAAAAAAAAAAAAAAAAAAAAAAAAAAAAAAAAAAAAAAAAAAAAAAAAAAAAAAAAAAAAAAAAAAAAAAAAAAAAAAAAAAAAAAAAAAAAAAAAAAAAAAAAAAAAAAAAAAAAAAAAAAAAAAAAAAAAAAAAAAAAAAAAAAAAAAAAAAAAAAAAAAAAAAAAAAAAAAAAAAAAAAAAAAAAAAAAAAAAAAAAAAAAAAAAAAAAAAAAAAAAAAAAAAAAAAAAAAAAAAAAAAAAAAAAAAAAAAAAAAAAAAAAAAAAAAAAAAAAAAAAAAAAAAAAAAAAAAAAAAAAAAAAAAAAAAAAAAAAAAAAAAAAAAAAAAAAAAAAAAAAAAAAAAAAAAAAAAAAAAAAAAAAAAAAAAAAAAAAAAAAAAAAAAAAAAAAAAAAAAAAAAAAAAAAAAAAAAAAAAAAAAAAAAAAAAAAAAAAAAAAAAAAAAAAAAAAAAAAAAAAAAAAAAAAAAAAAAAAAAAAAAAAAAAAAAAAAAAAAAAAAAAAAAAAAAAAAAAAAAAAAAAAAAAAAAAAAAAAAAAAAAAAAAAAAAAAAAAAAAAAAAAAAAAAAAAAAAAAAAAAAAAAAAAAAAAAAAAAAAAAAAAAAAAAAAAAAAAAAAAAAAAAAAAAAAAAAAAAAAAAAAAAAAAAAAAAAAAAAAAAAAAAAAAAAAAAAAAAAAAAAAAAAAAAAAAAAAAAAAAAAAAAAAAAAAAAAAAAAAAAAAAAAAAAAAAAAAAAAAAAAAAAAAAAAAAAAAAAAAAAAAAAAAAAAAAAAAAAAAAAAAAAAAAAAAAAAAAAAAAAAAAAAAAAAAAAAAAAAAAAAAAAAAAAAAAAAAAAAAAAAAAAAAAAAAAAAAAAAAAAAAAAAAAAAAAAAAAAAAAAAAAAAAAAAAAAAAAAAAAAAAAAAAAAAAAAAAAAAAAAAAAAAAAAAAAAAAAAAAAAAAAAAAAAAAAAAAAAAAAAAAAAAAAAAAAAAAAAAAAAAAAAAAAAAAAAAAAAAAAAAAAAAAAAAAAAAAAAAAAAAAAAAAAAAAAAAAAAAAAAAAAAAAAAAAAAAAAAAAAAAAAAAAAAAAAAAAAAAAAAAAAAAAAAAAAAAAAAAAAAAAAAAAAAAAAAAAAAAAAAAAAAAAAAAAAAAAAAAAAAAAAAAAAAAAAAAAAAAAAAAAAAAAAAAAAAAAAAAAAAAAAAAAAAAAAAAAAAAAAAAAAAAAAAAAAAAAAAAAAAAAAAAAAAAAAAAAAAAAAAAAAAAAAAAAAAAAAAAAAAAAAAAAAAAAAAAAAAAAAAAAAAAAAAAAAAAAAAAAAAAAAAAAAAAAAAAAAAAAAAAAAAAAAAAAAAAAAAAAAAAAAAAAAAAAAAAAAAAAAAAAAAAAAAAAAAAAAAAAAAAAAAAAAAAAAAAAAAAAAAAAAAAAAAAAAAAAAAAAAAAAAAAAAAAAAAAAAAAAAAAAAAAAAAAAAAAAAAAAAAAAAAAAAAAAAAAAAAAAAAAAAAAAAAAAAAAAAAAAAAAAAAAAAAAAAAAAAAAAAAAAAAAAAAAAAAAAAAAAAAAAAAAAAAAAAAAAAAAAAAAAAAAAAAAAAAAAAAAAAAAAAAAAAAAAAAAAAAAAAAAAAAAAAAAAAAAAAAAAAAAAAAAAAAAAAAAAAAAAAAAAAAAAAAAAAAAAAAAAAAAAAAAAAAAAAAAAAAAAAAAAAAAAAAAAAAAAAAAAAAAAAAAAAAAAAAAAAAAAAAAAAAAAAAAAAAAAAAAAAAAAAAAAAAAAAAAAAAAAAAAAAAAAAAAAAAAAAAAAAAAAAAAAAAAAAAAAAAAAAAAAAAAAAAAAAAAAAAAAAAAAAAAAAAAAAAAAAAAAAAAAAAAAAAAAAAAAAAAAAAAAAAAAAAAAAAAAAAAAAAAAAAAAAAAAAAAAAAAAAAAAAAAAAAAAAAAAAAAAAAAAAAAAAAAAAAAAAAAAAAAAAAAAAAAAAAAAAAAAAAAAAAAAAAAAAAAAAAAAAAAAAAAAAAAAAAAAAAAAAAAAAAAAAAAAAAAAAAAAAAAAAAAAAAAAAAAAAAAAAAAAAAAAAAAAAAAAAAAAAAAAAAAAAAAAAAAAAAAAAAAAAAAAAAAAAAAAAAAAAAAAAAAAAAAAAAAAAAAAAAAAAAAAAAAAAAAAAAAAAAAAAAAAAAAAAAAAAAAAAAAAAAAAAAAAAAAAAAAAAAAAAAFRlbWlsb2x1d2EAAAAFkAMAAgAAABQAABCkkAQAAgAAABQAABC4kpEAAgAAAAMwOQAAkpIAAgAAAAMwOQAA6hwABwAACAwAAAiYAAAAABzqAAAACAAAAAAAAAAAAAAAAAAAAAAAAAAAAAAAAAAAAAAAAAAAAAAAAAAAAAAAAAAAAAAAAAAAAAAAAAAAAAAAAAAAAAAAAAAAAAAAAAAAAAAAAAAAAAAAAAAAAAAAAAAAAAAAAAAAAAAAAAAAAAAAAAAAAAAAAAAAAAAAAAAAAAAAAAAAAAAAAAAAAAAAAAAAAAAAAAAAAAAAAAAAAAAAAAAAAAAAAAAAAAAAAAAAAAAAAAAAAAAAAAAAAAAAAAAAAAAAAAAAAAAAAAAAAAAAAAAAAAAAAAAAAAAAAAAAAAAAAAAAAAAAAAAAAAAAAAAAAAAAAAAAAAAAAAAAAAAAAAAAAAAAAAAAAAAAAAAAAAAAAAAAAAAAAAAAAAAAAAAAAAAAAAAAAAAAAAAAAAAAAAAAAAAAAAAAAAAAAAAAAAAAAAAAAAAAAAAAAAAAAAAAAAAAAAAAAAAAAAAAAAAAAAAAAAAAAAAAAAAAAAAAAAAAAAAAAAAAAAAAAAAAAAAAAAAAAAAAAAAAAAAAAAAAAAAAAAAAAAAAAAAAAAAAAAAAAAAAAAAAAAAAAAAAAAAAAAAAAAAAAAAAAAAAAAAAAAAAAAAAAAAAAAAAAAAAAAAAAAAAAAAAAAAAAAAAAAAAAAAAAAAAAAAAAAAAAAAAAAAAAAAAAAAAAAAAAAAAAAAAAAAAAAAAAAAAAAAAAAAAAAAAAAAAAAAAAAAAAAAAAAAAAAAAAAAAAAAAAAAAAAAAAAAAAAAAAAAAAAAAAAAAAAAAAAAAAAAAAAAAAAAAAAAAAAAAAAAAAAAAAAAAAAAAAAAAAAAAAAAAAAAAAAAAAAAAAAAAAAAAAAAAAAAAAAAAAAAAAAAAAAAAAAAAAAAAAAAAAAAAAAAAAAAAAAAAAAAAAAAAAAAAAAAAAAAAAAAAAAAAAAAAAAAAAAAAAAAAAAAAAAAAAAAAAAAAAAAAAAAAAAAAAAAAAAAAAAAAAAAAAAAAAAAAAAAAAAAAAAAAAAAAAAAAAAAAAAAAAAAAAAAAAAAAAAAAAAAAAAAAAAAAAAAAAAAAAAAAAAAAAAAAAAAAAAAAAAAAAAAAAAAAAAAAAAAAAAAAAAAAAAAAAAAAAAAAAAAAAAAAAAAAAAAAAAAAAAAAAAAAAAAAAAAAAAAAAAAAAAAAAAAAAAAAAAAAAAAAAAAAAAAAAAAAAAAAAAAAAAAAAAAAAAAAAAAAAAAAAAAAAAAAAAAAAAAAAAAAAAAAAAAAAAAAAAAAAAAAAAAAAAAAAAAAAAAAAAAAAAAAAAAAAAAAAAAAAAAAAAAAAAAAAAAAAAAAAAAAAAAAAAAAAAAAAAAAAAAAAAAAAAAAAAAAAAAAAAAAAAAAAAAAAAAAAAAAAAAAAAAAAAAAAAAAAAAAAAAAAAAAAAAAAAAAAAAAAAAAAAAAAAAAAAAAAAAAAAAAAAAAAAAAAAAAAAAAAAAAAAAAAAAAAAAAAAAAAAAAAAAAAAAAAAAAAAAAAAAAAAAAAAAAAAAAAAAAAAAAAAAAAAAAAAAAAAAAAAAAAAAAAAAAAAAAAAAAAAAAAAAAAAAAAAAAAAAAAAAAAAAAAAAAAAAAAAAAAAAAAAAAAAAAAAAAAAAAAAAAAAAAAAAAAAAAAAAAAAAAAAAAAAAAAAAAAAAAAAAAAAAAAAAAAAAAAAAAAAAAAAAAAAAAAAAAAAAAAAAAAAAAAAAAAAAAAAAAAAAAAAAAAAAAAAAAAAAAAAAAAAAAAAAAAAAAAAAAAAAAAAAAAAAAAAAAAAAAAAAAAAAAAAAAAAAAAAAAAAAAAAAAAAAAAAAAAAAAAAAAAAAAAAAAAAAAAAAAAAAAAAAAAAAAAAAAAAAAAAAAAAAAAAAAAAAAAAAAAAAAAAAAAAAAAAAAAAAAAAAAAAAAAAAAAAAAAAAAAAAAAAAAAAAAAAAAAAAAAAAAAAAAAAAAAAAAAAAAAAAAAAAAAAAAAAAAAAAAAAAAAAAAAAAAAAAAAAAAAAAAAAAAAAAAAAAAAAAAAAAAAAAAAAAAAAAAAAAAAAAAAAAAAAAAAAAAAAAAAAAAAAAAAAAAAAAAAAAAAAAAAAAAAAAAAAAAAAAAAAAAAAAAAAAAAAAAAAAAAAAAAAAAAAAAAAAAAAAAAAAAAAAAAAAAAAAAAAAAAAAAAAAAAAAAAAAAAAAAAAAAAAAAAAAAAAAAAAAAAAAAAAAAAAAAAAAAAAAAAAAAAAAAAAAAAAAAAAAAAAAAAAAAAAAAAAAAAAAAAAAAAAAAAAAAAAAAAAAAAAAAAAAAAAAAAAAAAAAAAAAAAAAAAAAAAAAAAAAAAAAAAAAAAAAAAAAAAAAAAAAAAAAAAAAAAAAAAAAAAAAAAAAAAAAAAAAAAAAAAAAAAAAAAAAAAAAAAAAAAAAAAAAAAAAAAAAAAAAAAAAAAAAAAAAAAAAAAAAAAAAAAAAAAAAAAAAAAAAAAAAAAAAAAAAAAAAAAAAAAAAAAAAAAAAAAAAAAAAAAAAAAAAAAAAAAAAAAAAAAAAAAAAAAAAAAAAAAAAAAAAAAAAAAAAAAAAAAAAAAAAAAAAAAAAAAAAAAAAAAAAAAAAAAAAAAAAAAAAAAAAAAAAAAAAAAAAAAAAAAAAAAAAAAAAAAAAAAAAAAAAAAAAAAAAAAAAAAAAAAAAAAAAAAAAAAAAAAAAAAAAAAAAAAAAAAAAAAAAAAAAAAAAAAAAAAAAAAAAAAAAAAAAAAAAAAAAAAAAAAAAAAAAAMjAyMjowNDoyMSAwMjoxNToxMQAyMDIyOjA0OjIxIDAyOjE1OjExAAAAVABlAG0AaQBsAG8AbAB1AHcAYQAAAP/hCx1odHRwOi8vbnMuYWRvYmUuY29tL3hhcC8xLjAvADw/eHBhY2tldCBiZWdpbj0n77u/JyBpZD0nVzVNME1wQ2VoaUh6cmVTek5UY3prYzlkJz8+DQo8eDp4bXBtZXRhIHhtbG5zOng9ImFkb2JlOm5zOm1ldGEvIj48cmRmOlJERiB4bWxuczpyZGY9Imh0dHA6Ly93d3cudzMub3JnLzE5OTkvMDIvMjItcmRmLXN5bnRheC1ucyMiPjxyZGY6RGVzY3JpcHRpb24gcmRmOmFib3V0PSJ1dWlkOmZhZjViZGQ1LWJhM2QtMTFkYS1hZDMxLWQzM2Q3NTE4MmYxYiIgeG1sbnM6ZGM9Imh0dHA6Ly9wdXJsLm9yZy9kYy9lbGVtZW50cy8xLjEvIi8+PHJkZjpEZXNjcmlwdGlvbiByZGY6YWJvdXQ9InV1aWQ6ZmFmNWJkZDUtYmEzZC0xMWRhLWFkMzEtZDMzZDc1MTgyZjFiIiB4bWxuczp4bXA9Imh0dHA6Ly9ucy5hZG9iZS5jb20veGFwLzEuMC8iPjx4bXA6Q3JlYXRlRGF0ZT4yMDIyLTA0LTIxVDAyOjE1OjExLjA5MDwveG1wOkNyZWF0ZURhdGU+PC9yZGY6RGVzY3JpcHRpb24+PHJkZjpEZXNjcmlwdGlvbiByZGY6YWJvdXQ9InV1aWQ6ZmFmNWJkZDUtYmEzZC0xMWRhLWFkMzEtZDMzZDc1MTgyZjFiIiB4bWxuczpkYz0iaHR0cDovL3B1cmwub3JnL2RjL2VsZW1lbnRzLzEuMS8iPjxkYzpjcmVhdG9yPjxyZGY6U2VxIHhtbG5zOnJkZj0iaHR0cDovL3d3dy53My5vcmcvMTk5OS8wMi8yMi1yZGYtc3ludGF4LW5zIyI+PHJkZjpsaT5UZW1pbG9sdXdhPC9yZGY6bGk+PC9yZGY6U2VxPg0KCQkJPC9kYzpjcmVhdG9yPjwvcmRmOkRlc2NyaXB0aW9uPjwvcmRmOlJERj48L3g6eG1wbWV0YT4NCiAgICAgICAgICAgICAgICAgICAgICAgICAgICAgICAgICAgICAgICAgICAgICAgICAgICAgICAgICAgICAgICAgICAgICAgICAgICAgICAgICAgICAgICAgICAgICAgICAgICAKICAgICAgICAgICAgICAgICAgICAgICAgICAgICAgICAgICAgICAgICAgICAgICAgICAgICAgICAgICAgICAgICAgICAgICAgICAgICAgICAgICAgICAgICAgICAgICAgICAgIAogICAgICAgICAgICAgICAgICAgICAgICAgICAgICAgICAgICAgICAgICAgICAgICAgICAgICAgICAgICAgICAgICAgICAgICAgICAgICAgICAgICAgICAgICAgICAgICAgICAgCiAgICAgICAgICAgICAgICAgICAgICAgICAgICAgICAgICAgICAgICAgICAgICAgICAgICAgICAgICAgICAgICAgICAgICAgICAgICAgICAgICAgICAgICAgICAgICAgICAgICAKICAgICAgICAgICAgICAgICAgICAgICAgICAgICAgICAgICAgICAgICAgICAgICAgICAgICAgICAgICAgICAgICAgICAgICAgICAgICAgICAgICAgICAgICAgICAgICAgICAgIAogICAgICAgICAgICAgICAgICAgICAgICAgICAgICAgICAgICAgICAgICAgICAgICAgICAgICAgICAgICAgICAgICAgICAgICAgICAgICAgICAgICAgICAgICAgICAgICAgICAgCiAgICAgICAgICAgICAgICAgICAgICAgICAgICAgICAgICAgICAgICAgICAgICAgICAgICAgICAgICAgICAgICAgICAgICAgICAgICAgICAgICAgICAgICAgICAgICAgICAgICAKICAgICAgICAgICAgICAgICAgICAgICAgICAgICAgICAgICAgICAgICAgICAgICAgICAgICAgICAgICAgICAgICAgICAgICAgICAgICAgICAgICAgICAgICAgICAgICAgICAgIAogICAgICAgICAgICAgICAgICAgICAgICAgICAgICAgICAgICAgICAgICAgICAgICAgICAgICAgICAgICAgICAgICAgICAgICAgICAgICAgICAgICAgICAgICAgICAgICAgICAgCiAgICAgICAgICAgICAgICAgICAgICAgICAgICAgICAgICAgICAgICAgICAgICAgICAgICAgICAgICAgICAgICAgICAgICAgICAgICAgICAgICAgICAgICAgICAgICAgICAgICAKICAgICAgICAgICAgICAgICAgICAgICAgICAgICAgICAgICAgICAgICAgICAgICAgICAgICAgICAgICAgICAgICAgICAgICAgICAgICAgICAgICAgICAgICAgICAgICAgICAgIAogICAgICAgICAgICAgICAgICAgICAgICAgICAgICAgICAgICAgICAgICAgICAgICAgICAgICAgICAgICAgICAgICAgICAgICAgICAgICAgICAgICAgICAgICAgICAgICAgICAgCiAgICAgICAgICAgICAgICAgICAgICAgICAgICAgICAgICAgICAgICAgICAgICAgICAgICAgICAgICAgICAgICAgICAgICAgICAgICAgICAgICAgICAgICAgICAgICAgICAgICAKICAgICAgICAgICAgICAgICAgICAgICAgICAgICAgICAgICAgICAgICAgICAgICAgICAgICAgICAgICAgICAgICAgICAgICAgICAgICAgICAgICAgICAgICAgICAgICAgICAgIAogICAgICAgICAgICAgICAgICAgICAgICAgICAgICAgICAgICAgICAgICAgICAgICAgICAgICAgICAgICAgICAgICAgICAgICAgICAgICAgICAgICAgICAgICAgICAgICAgICAgCiAgICAgICAgICAgICAgICAgICAgICAgICAgICAgICAgICAgICAgICAgICAgICAgICAgICAgICAgICAgICAgICAgICAgICAgICAgICAgICAgICAgICAgICAgICAgICAgICAgICAKICAgICAgICAgICAgICAgICAgICAgICAgICAgICAgICAgICAgICAgICAgICAgICAgICAgICAgICAgICAgICAgICAgICAgICAgICAgICAgICAgICAgICAgICAgICAgICAgICAgIAogICAgICAgICAgICAgICAgICAgICAgICAgICAgICAgICAgICAgICAgICAgICAgICAgICAgICAgICAgICAgICAgICAgICAgICAgICAgICAgICAgICAgICAgICAgICAgICAgICAgCiAgICAgICAgICAgICAgICAgICAgICAgICAgICAgICAgICAgICAgICAgICAgICAgICAgICAgICAgICAgICAgICAgICAgICAgICAgICAgICAgICAgICAgICAgICAgICAgICAgICAKICAgICAgICAgICAgICAgICAgICAgICAgICAgICAgICAgICAgICAgICAgICAgICAgICAgICAgICAgICAgICAgICAgICAgICAgICAgICAgICAgICAgICAgICAgICAgICAgICAgIAogICAgICAgICAgICAgICAgICAgICAgICAgICAgPD94cGFja2V0IGVuZD0ndyc/Pv/bAEMABwUFBgUEBwYFBggHBwgKEQsKCQkKFQ8QDBEYFRoZGBUYFxseJyEbHSUdFxgiLiIlKCkrLCsaIC8zLyoyJyorKv/bAEMBBwgICgkKFAsLFCocGBwqKioqKioqKioqKioqKioqKioqKioqKioqKioqKioqKioqKioqKioqKioqKioqKioqKv/AABEIAFEC6QMBIgACEQEDEQH/xAAfAAABBQEBAQEBAQAAAAAAAAAAAQIDBAUGBwgJCgv/xAC1EAACAQMDAgQDBQUEBAAAAX0BAgMABBEFEiExQQYTUWEHInEUMoGRoQgjQrHBFVLR8CQzYnKCCQoWFxgZGiUmJygpKjQ1Njc4OTpDREVGR0hJSlNUVVZXWFlaY2RlZmdoaWpzdHV2d3h5eoOEhYaHiImKkpOUlZaXmJmaoqOkpaanqKmqsrO0tba3uLm6wsPExcbHyMnK0tPU1dbX2Nna4eLj5OXm5+jp6vHy8/T19vf4+fr/xAAfAQADAQEBAQEBAQEBAAAAAAAAAQIDBAUGBwgJCgv/xAC1EQACAQIEBAMEBwUEBAABAncAAQIDEQQFITEGEkFRB2FxEyIygQgUQpGhscEJIzNS8BVictEKFiQ04SXxFxgZGiYnKCkqNTY3ODk6Q0RFRkdISUpTVFVWV1hZWmNkZWZnaGlqc3R1dnd4eXqCg4SFhoeIiYqSk5SVlpeYmZqio6Slpqeoqaqys7S1tre4ubrCw8TFxsfIycrS09TV1tfY2dri4+Tl5ufo6ery8/T19vf4+fr/2gAMAwEAAhEDEQA/APoZPu/iafa/en/66f8Asq0xPu/iafa/en/66f8Asq0xEEmsWsGtRaXcFoZ50327SLhJyM7kRu7ADJXrjkZAOL9Yet6A3iG7hg1GXbpMDJP5ELFZJplbKlnGCqqQrDaQSepwMNuVrUVNRi4vXr/X5rp36IV7mLL4u0SHVDp73jees62z4gkKRStjajyBdqFty7QxG4kAZoHi/Q21Qael4XuPtBtWCwSFI5R/A7hdqE9gxG7tmudh07VNa1HW9PSK0i0v+2455bo3DmfMawybVj2beSgG7fwCeK6XStES0hvEvYreb7RqEl4vy7hkvuQnI+8MDntgYPFdtWjhqUfebvZaXXVLXb10389SOaTvbu1+f/AIdO1yW/8AF+paarRi2s4I2CPazxTbyzhm3OoR4zt4KE8g+1OsPGOiandi3sLqSZ2jeRGW1l2SBMb1Vyu1mXOCgJYHII4NVLWz8Qr46uNTubHTEsJrZLXdHfyNKFR5GV9hhAyfMAK7uMHk07T/AA7d2sHh1JJISdLaQzbWPzbo3UbeOeWHXFKdPDq930VrNb8rvey7q3Tcptp6eX6Enh/xhZ+ILiaCG01CCSOaSMGfT7iNCEOMl3jVVJ/uk5FH9vXU1jreo20cQs7FJUti6ktNLEG8xjz9zcNoHU7WOcEVJpFlqum6tewvDZyaZPcSXMdwLhxMpfBKmLZtwGz82/pjis/SraQ6DrXhhtsd7F9oEe9jiSKZnaOTPXHzFT/tI1OUKHNKUFp7vW+j3fTyXzCLfNrtf/hv6+Rd0zxno2oWUkxvBELe1F1NJLDJFEY8cyI7gLIg/vKWHI55GZIfGGizWV9dNczW8enxefcrdWk0EkceCd/lyKGK/K2CAQcEdjWJP4U1fW7YPq32CwuraxNpafZpXuVJLxuXcskZxmFBtA6Z59Jb/wAPa3r9lrLasmn2txeaa1hb28E7zRjdks7u0ankkDaF4Cnk5wNHQwd9ZW111TtqvLXS+23XzhOVv68v+D6mrb+MtCuo5nhvWKQmEFjBIocSvsjdCV+dGbgOuV98U3xH4ss/D2j6neGOe6m0+Le8EMEjclCygsqttU7TljwO9SeI9DbVNGkisEt0vQYWieQbQ3lSrKqFgCQpK4yAcZzg9Kzj4d1XVNP8RxazJZ20mtWwgjW0ZpRAPLZOWYLv5Oc4X0wMZOVKGEdpybSvqm9fs9l/i+779IvVJmrB4ksJ9Kk1AR38cUbbSkunXEcrHGcJGyB36/wg9/Q1PYXuna9axXlsvnLDK2zz4GSSGQZU5VwGRsEjkA4PoaxNTsfFGreHYoJI7Kyuo7hGkhtNUmRbmIDlfPWJXiJbB+UHhcZ+Y0eH9D1rQfDeqxQPZtqdzPJcWonuZ7iJGKKFWSR/3jgFcFupHIA+6FKhQ9m2pWlfRXTVvl999vmSpSXL+P4/18y/4g8QpoN9pSz4EF5NJHJiJ5JDiJnARVyWYlRwASfSpf8AhJ9LOkRalFJcT28rFFW3s5pZdwJDAxKpcFSCCCvykYOKqatY65OdEvbOHT7i+sXL3EUty8ETFomRtjCNzjLZGR0rJvPCuuDT7VLOeKRmuri6vrWLUZrBHeViy7ZoVLkJkjGBuzuOCMVdOjhpQhzOz66r+993Szbtr6tJN3f9dP8APobdx4x0O2gtJXu3k+2wtPbxwW0sskqKQGIjRS2RuGRjI5zjBxDL4stk1a0Iubb+yJ9Lk1D7WSegaMKQc4wQ57Z6VV8M+Fr7RZdLa7nhl+x2l1BIyO7F2lnSRSN2SeFOcknPc9ayz8PL2W20DzLyGK60XTfKhlRmdBcq8bKxQgB0+Q5BweQRg4I0jSwKm056a6/+BWdreS777dCbzcW+un6X/U7u1uUvLSK4hEipKoZRLE0TgH1VgGU+xANYGqeNbPSfFEOjT2eoyGS3kmaa30+4mAKmPAUJGwcESckHCkAHkipW8Y6Lpu218R65omnamij7RanUU/dkjPG/a2MEHlR1qLUIrvUNR0vxF4WfTtSWO3mg2y3ZjiljkMbb1kRHyQYgMYwQTyMc81GhGNT99F8rTtrZXtpra36fI0vp5lm/8YaHpl49pe3jJcRKjyxrBI5iRujvtU7E9XOFHcipr/xJpmmX0dreSTI8jIvmLayvCjMQFDyqpRCSRwzDqPUU2DRQ2ravcX0NvNBqMUUTRMu/cqqQysCMEfMePc1zniPwlr2s6vdtFdRtaStEbdn1O5hW3VNpaM28YEcmSGO9iT8wGCFAN0qWEnNRlJpW1d1vptp01+7TUluSi2bp1yV/HUeixNGsAs5JpFltZ1kdgyAGOQr5TKA/zAEkEj3p6+LtFfVxpqXbvcmdrY7beQxpKMny2k27FbAyFJBIIIzkZp3ll4hk8c2WpQWWmNYWsEttue/kWVkkaJi+wQkAr5Zwu7nPUU5vDt21mYRJDu/tkX+dxx5YmD46fewOnTPej2eH5Y8z6LZre71enppv0uOTaTcd/wDgf5mjb6lN/wAJBc6Xexoh8sXFpIh/1sXCsCOzKxGe2GU+oGnWAi/2l47F1CG8nSrSS2eQrhXllaNyoPfasa57ZcDqDjfrkrRUeW29lf8ArzVn8yurCiiisBhRRRQAUUUUAFFFFABRRRQAUUUUAFFFFABRRRQAUUUUAFFFFABRRRQAUUUUAFFFFABRRRQAUUUUAFFFFABRRRQAUUUUAFFFFABRRRQAUUUUAFFFFABRRRQAUUUUAFFFFABRRRQAUUUUAFFFFABRRRQAUUUUAFFFFABRRRQAUUUUAVE+7+Jp9r96f/rp/wCyrTE+7+Jp9r96f/rp/wCyrTEcrfeNtRtNb1OGPRraXTdLu7a1uLg35WdjMsZBSLytrY80DHmAnBxzgVrXPjHQ7TWP7MnupFnEqQPILWVoI5XxtjeYL5aOdy4VmBO5ePmGeV1TwDqF74w1fUYtN0XOoTwyQay07rfWCpEiN5YEXXKMR+8A+bkHkHRufDGus19pMDaedH1DUPtkl20rrcRKXV3jEQQq5JUgOXXAb7p2/NMb6X/rb/g/8EqVunl+X+f9I1p/HHh631iTS5NQJu4bhLaZEgkcQSPt2CRgpWMNuAUsQGOQCSDi8mv6bJCkqXOUe8axU+W3MysylOn95WGenHWqul6Attda299FbTx6lqAulXbu4EUSruBHUNHkdccVhw+GPEEV/FbA6YNLg1qTUxP5shnlV3dymzYFQqXxnc24DoueH2Xp+l/u1F9lv1t+P/AL2hePbHXdbvtNisdUhktrnyEkl0y6RHHlJJl2aILGfmIwxBOAR94Vp2nifS73WG0uGS4F0AzJ5tpLHHKFxuMcjKEkxkfcJqnYabrGl+KtTlghsZ9L1S4W6kme5dJ4GEKRlRGIyrj92pzvX7x44557QPBniO18Uabqet3cc5smmM051a6uDdF0ZQ6wOBFBjI+VAeDgMAMM97en4/8AD/8AACWl7HoEsqQQvLKdqRqWY4zgAZNY2l+M9B1iZo7C+34tzcrJJDJFHLEMZkjd1CyKMjJUkDIzjNaOrf8AIFvf+veT/wBBNcFpHhfVvFPhewbWzaabCPD76fbfYrh53cTxxgyOWRAuAi4Ubup+apV3fy/4P6pBpzRT63/C3+Z1Nv430G5sL28W6migsbc3UzXFnNCfJwT5iB0BdOD8ygg0lv468NXEN1N/a8MEFoiSSXF0GgiMbkqkiSSBVdGIIDqSp7Guaj8B6lPoWs2t3aQRX13pctjb3cniC9v1beOcpOv7pSQp+UseMc4rvo7OCNlkWCITLEIhIEG4KP4c9cZ7U3tdf1/WgLbX+tv+Ccb4T8fW2s6Ld67e+INFmsUUOLOwjZp7QOxEaSkSMXdhgBRGpLcAGtoeOPDw0m51K4v2tLa0mSC5N5by27wO5ULvSRVZAd6ncQBg5zjmsy28I6jbfDfRtFSa1/tLSfs8qFixhkkhYNtJxkK2MbsZGc4OMGO58KaxrC3d5qosILy6vLBzbQzPLDHBbTCQjeUUszZc/dA5UdixaSvb+umv5jfxGi/xC8NRWTXM17PEqzGAxSWM6zeYI/Nx5RTf9z5h8vI5FTReOPD8+lS6jb3rzW8cywfuraV3kdgGURxhd0m5WDAqCCpyMjmovE3hmTWJ7WawW2ilRpjO7ja0m62kiXkA5wXHXoM/Sueu/h9qklu8kVxE08d9BdRQx39xaCVVs0t3VpogHjOQzAgMDgAjk4S3d/L89QWv4/8AAOqk8Y6JHpEGo/aZnhuJTBFFFaSvO0i53R+QqmTcu1ty7cqFJIGDTvCmtSeIfD0epTR+WZJ50VfKaMhUmdFyrfMrYUZBwc54HSuftfC+r6TFp19o+n2CahBLO1za3Ws3NwkolCjf9pkjaQsPLTgpjGRnvXQ+FdJu9F8PpZ6jNDPcieeWSSBSqMZJXfgEkj73TJx6nrT6E63RDrOu6jb6sml6BpcOo3gtzdTfabs20cce7ao3CNyXY5wMAYU5I4zR/wCEzudSFqvhfSUv5ZbBNQmS8uTbeVE5IVchH3SEq428AbTlhxmXxZoF3rF3Zy6fY2sksaujXcup3Fq0SkjgpCP36cZMbOoOAM85GdqPgiSOw0aw0aytXWwtRafbJdRntWRPl4aGBQs6cZMbMqnpxkmp1t/Xn/wCtP6+X/BOt0nU4NZ0az1Oz3eReQJPHvGGCsAQCPXmsnW9fmsPE2h6VatEn26cic3FpcFXTy3YLHKq+WJMpna7D5QeOlamjaXBomh2Wl2efIsoEgjz12qoA/lWF4qsfEl9rGkS6LYaXNbaddC7LXeoyQu7eVJGU2rA4A/eA7s9sY71btz6bXEtnfsPuvHVjZ+LX0Kay1RnSESGaHS7qVSxbGAUiIK/7YO3t1FXr3xZo2nasum3dzIk5KKzLbSvFEznCLJKqlIyxxgMwJyPUVBqVhrMXiW21fR4LG53WptbiG6unh2DeGDoyxvuP3htIHbkVgap4FvLnxRf3JgXUdO1KeOaWOTX72y8nCqjL5EQaOUYQMM7c5weBmojeyv5/np+H9XB7u3y+7/P+rHQT+OPD1vrEmlyagTdw3CW0yJBI4gkfbsEjBSsYbcApYgMcgEkHFmTxPpcOtx6VLJcJcSP5aObSbyWfBOwTbfL3YB+XdnjGKi0vQFtrrW3voraePUtQF0q7d3AiiVdwI6ho8jrjiuXuPBniO88Vx3t3dxzW8OqreJM+rXXMKuCsItABCpUcb8sSVycFsq1q4r0v+F/u1E/hk10vb8fz0NrQvHtjrut32mxWOqQyW1z5CSS6ZdIjjykky7NEFjPzEYYgnAI+8KsaR4gm1PxfrOnboha2EcJjje0uIZwzFwzEyKEdCU+VkyODk9KSw03WNL8V6lLBDYz6Vqlwt1JM9y6TwMIUjKiMRlXH7tTnev3jxxzSt9K8Ry+MtTvb+x0uLTdQtI7MvBqMjzIsZmIfYYFUlvNGRu4weWpvbTe342Ldtf66mjY+NtB1G6a3tbuUt5TzRvJaTRxzomNzROyhZQMg5QtwQehp+k+MdD1uZo9NvWk2wfaFkeCSOOWL+/G7KFkUZGSpIGecVhWXhfX5LfTLHVTpsdrottJDbS2szs925hMKs6FAIgFZiVDPyRzgc37Tw3e2tzok5+yz/2dokthJEzsBJI3kY52n5P3TZOM8jg0aXev9a/5L7yNW0v66f8AB1NbRvENhryyPpovCkYU+ZcWE9ujg5wUaRFDjjquR09RV+5uEtbWW4lEjJEhdhFE0jEAZ4VQWY+wBJrlvBvh/VdEurj7SkNhpxiSODTINTmvo42BPzK0qIY1xhRGo2gDIxXT3bXKWcrWEUU1yFJijmlMaM3YFgrFR7hT9KT2GtznNF8Xw/8ACE/2/wCJb2zt4FuZInnihmhjjHnmJQyyqHVgcBtwAByenNbGja/p+vRzvpskxNvJ5U0dxbSQSRttDAFJFVhkMCDjBB4rlbDwz4jk8J3Gk6pBpdtIdVS/ikt72SYMpvftDqd0KYIHyjGcnrtrp7DTJrXxBq19I0ZivTD5YUncNibTnj1+tN2W39bDdundljVJ9Qt7POkWMV7dMwVY57jyI1HdmcKxA+isckcYyRz0PjW5u9JtPsWko+r3N9NYfY5LorCksJfzWMwQnYPLODsycr8oycaXiyHxDc6C8HhKS0ivpXVWlupmj8uP+IowR8PjgEqQCckHGDjSeGr6TwZZ6Z/wj+mpPZzAwQw69cw+WADmUXSQiXzDubPy/NubLHJBnv8A1/X9bB2/r+v63Oh0HV31ixke5thaXdvM9vcwCTzFSRTztbA3KQQQSASCMgHiq+t65e2ep2ml6Lp8N9qFzHJPtublreJIkKhmLrG5zudQF285JyMVTstB1Pw94Pu7bw3/AGedYmke4BuxJ9nMrEZ3EEu3A+8SWY8nrTvFehXWsx2LW1hbz3UBbM/9rXFg8IYDdteBSzqcDKEqDtHoMPt/X9a/8P1EvPz/AK+4bL4m1Ofw1DrWj6VZywrHI95FfX5t3tzGSHUbYnViCrDkqOBzzxNq+v6naaDFrOmaXazWYtTd3Ivr1raWJAobAUROC2M5BZQCOvcZt54Qa28N6doll4e0DWba2LSN/abmFIJSSd8UYhk7s2BuUgYGT1p+q+Gr+bw/pWkPpekeJDaQqr3ut3DCRJVUKJVXypCW6nO5T785oezt8vx/4H+Yl0v8/wCv69C7ea9rEmpW9poGkWdyZLNbuQ6hfvalAxIC4WGTJ4Oen410QztG4AHHIBzXD+IPBt3qmm2OnNpWi6vNBZLbf27qsjfa7d8YMqIIiS3AcYlQ7u4+9Xa20Jt7WKFpHlMaBDI5yz4GMn3NPo/V/m/0sGun9djOu/EenWesR6XJ9rlu5NuVtrGadY9xwpkdEKxg4PLkcAnpUd74s0bTtWXTbu5kSclFZltpXiiZzhFklVSkZY4wGYE5HqKx9f8ADur3/iiO/wBHt7XT3BiV9Uj1SZJWRWyVe1WPy5hguo3scbiRg1R1TwLeXPii/uTAuo6dqU8c0scmv3tl5OFVGXyIg0cowgYZ25zg8DNKOtrjfWx1M3ifTIdcGkB7ma8BUSLbWU0yQluVEkiIUjJHOHI4IPQg0qeI9Ol1xtJh+1y3KMVd47GZoUbbu2tME8tTjHBbPIHUis+y03W9G8QX32G20+70zUbz7XLLNdyRTwEqqsoQRusn3Mg7k647ZNP/AIR3Vx44/tOyt7XSrVrjzLqa31SaQ3qBNuHtTGIlc4XMgYsNo5PShdL/ANf8N+PQH1/r+r/h1OxorPg/tj+3rv7T9h/sjyo/svl7/tHmc79+fl2/dxjnrmtCgAooooAKKKKACiiigAooooAKKKKACiiigAooooAKKKKACiiigAooooAKKKKACiiigAooooAKKKKACiiigAooooAKKKKACiiigAooooAKKKKACiiigAooooAKKKKAKifd/E0+1+9P/wBdP/ZVpifd/E0+1+9P/wBdP/ZVpiLFc5fa3qlt420rTfstvHp14ZkMjktLIUi37lwcKoPHOSefu4G7o65fWfD2v6j4o0/VLLWtNtrfT2ZobeXTJJXO9Nr7nE6g9yMKMd81IO9tA1fV9b0jxDp3myabLp2oXy2cdokT/acFGPmCTftONpJTZwoJ3cV1FcmfDGvDxvLrw1zT5omxFDb3OmSO9rBxvjjcTqoLEZLlCTxnIUCuspr4df6/r+tLDfxaGFL4oFvrsWnXOj6lDHcSNDa3rrF5NxIqM5RR5m9SQj4LqqnbweRmh4a8W6rrNxfR3nhfUbVbe5miWVpLXaNnRG2zsd56ZA2+4rM0/wCGAs/FdtrUl5p8klrfzXizrpYF5MJBIPLluDIWcL5gAwFGEAx0x0enaNqOma5eSwajbNpd3M1w1q9oxmWRgAcSiQDbkZwUJ5IzSW/yf36f8EJeX9b/APAKHhjxdqWs/bP7R8N39hFb3E6faHe3KARsQEIWZm34HJA2574p+gePLPxG9obPTNThhv7RruynuYUjW5Vdu5VG/cCN4+8FB6qWHNWbHQdRsNQ1BYtTtm0q8klmFs1m3nRySct+98zBXdk42Z5xnir+laZJpHhqz0uC4V5bO0S3Sd4ztJVAoYqD04zjP496I/DrvZfk7/jYH8Wm2v6WOSHiLV4vh/4r1Sa4vI76xmuTDFc2sCyWgChkjxE0iybQR82STnkVrr44tY7fUHv9N1Gxksbdbow3EcYeaFiQJECueMg/K21h3AzVKPwdrcui+IdO1PXdPmXWRI4e30t4jDI6qucGdtygKPl4P+1ViXwffanZ6p/b+rxXF7fWgs45bOzMEUEYJYEI0jksWOSS2CAoAGCTXRen6f5/h5ke9r6v8/8AL+rE/iPxY+k2+sx6dptzfX2m2KXZRPLC7X8wKSWdcgGIlgOcYxk0638VzDw7/aWp6DqVnKTGkVq3kPJdO+AojEcrAZJx85XHU4AJqGy8J3rXms3XiDV0v5NXso7ORLa0+zpCieb9wF3PIl/iJ5BOcEKIL3wbfa34S/sbxFqOn37wyRSW0o0vEeY8YE0TyOJAccgFOCcbTgidm/l/wTR2urf1ov1uWm8bWkWkz3Vzp1/b3cF1HZvp0oiE/nSFfLUN5nlHcHUht+3nGQQQNzT7qa9sY57mwuNPkfOba5aMyJg45MbMvPXhj1/CuZtPBc1j4VutJtYfC0Bupd0qQ+HilrImAMPAJ/mbj7xbGMDHFa/hbQT4b0NdPM6TYkeTEMRihi3NnZFGWbZGOgXccVXf+v6/r5yS63rkOiQ2+62uL26upfJtrO1CmWZsFiBuZVACgklmAAHXJANO78VNaR2UR0PUpdTvFeRNLja3M6IhAZ2JlEYUFlHDnlh74n17RZ9Teyu9NvI7LUbCVpLeaWDzozuUoyum5SQQezKQQDnqDSvfD+tXFxp+p2+s2cOtWkMtvJKdPdraaOQqxHk+cGBBRMHzD/Fwc8L1/rT/ADK/r+v0/Ejbx7ZyR2Q07StU1C5vIJZktbeFA6eU4SVHLuqoyscYLckEAk4ByvFHj63GlaENJn1W2GuSQsl5aaTLcPHCyNIdv7t0MhCY2EMwBJ24Ga29G8Ipo17Z3KXjTNBbXEcu9OZpZ5lleTr8vzBvl7buvFMt/B3kaL4XsPt27+wJo5fM8nHn7YXjxjd8ud+e/THvTaWnqvuu/wBLBH7V/l93+ZW1LUtRtf8AhGIbW71UwXN1H9ov57ODM6lW/dSoxjeJm4OUjyMYIFWdb8cWui6tdacNL1TULm0s1vphZwowSAlwW3M6jI2H5fvHI2hsHEnibRNc1i6sm0rV9PsYLSZLgJc6c9wzSLnHzLOgC4PTGeOtXrTR3t/Ed5q8tysj3Vnb2zRrHtCmJpWLA5PXzenbHU5pK9n6v8l+v4eeoaX+S/PX8Dn9Q+J+l2Fxcxrpuq3UdsHLTwQoY22RJM2CzjpG+7JAHBGdxCnSvvGdrY30kf8AZ9/PZwGNbrUYkTyLVnwQHy4c8MpJVWChgSRzijqvgL+031Rv7S8r+0DdH/UZ8vzrdIf73ONm7tnOOOtVbr4Z2sviaTVooNAuRcSRSTjVNDW6mDIqofKl8xSgKoOCGw2SODihbq/l/wAEX2fPX/gFnXvGFwl5DaaNYXzRJqltZ3GpBYfs6lpUDx/M+9jhtuVQgE4yCDjsa5GbwZfy37KmtpHpX9ppqa2gsgZfMEiyMjSl8FCwYgBQwJHzEAg9dRH4Fff/AIC/W4n8btt/wX+ljmtL1W+uvHusWV0by3tre1heC0ngg2EF5F85JEkZiG2fdcKRtHHNUtJ+Jmm6vdWkMGl6rCt35JSaeFFQLKrGNj85OCUdcAE5GcbSGNy00DXofGlxrVzrOnS21xCts1rHpkiOIkaRkxIZyN2ZOTtwccAVR0z4ff2algP7T837HFZR/wDHvjf9nEgz97jd5n4Y75pPSP3fnr+BUra2/rT/ADLGmfEPTdRht7qax1DTrC6tnuYL6+jSOORUXc4wHLAgZOWUAhSVLDBM9p42gmeRbzSNU07/AER723N3HHi6iQAsU2O20gFTtfY3zdODjnvCvgq/1TwdpEHi67U28OmNbw2ENk1tJB5sXlt5jM7FnCEgYCAZJIPGNqHwjqU7s2ua1FetDYy2VmYLMw7FkADPJ+8YSPhV5Gwfe454Kl1zcvy/H/geRVoqXlf8NP8AghaePotRh3afoerSNNZfbbJZEhiN7FlQxQPINu0uuQ+zIOV3cVL4P8U3+v8AhW21TU9CvLF5LOK4LfumS4LLk+UqSuwHoHAPI98b1lZi00u3s2bzBDCsRbGN2FxnHauat/B+qJ4LuvDE+uQtZ/ZRaWM0Nk0csKAYHmt5pEnAUHaI889M8VKy5kvl+P8AwCI/Cubclk8eWtpZX02raTqmnz2L24ls5I45Zis0nlxuohdwwLZGAd3ynjpmprXjy6s/COuahY+H9QXUdKVvMs7ryMxfuvMWViJtrR4xnYxbqMZBqnpnwvTTxqBS5021a+eyd4tL0lbSBDbTmXhA5JLAgEliRjPTCjo73wtFqEfiCK5uX8nW4BA4RcNEBGUJBOcnnPT86HZbf1t/wS48t1cmt9cuX0G61G80HU7N7aNnFm4hlmnCru/diKRwSegBIOa0rS4+12UFx5UsPnRq/lTLtdMjO1h2I6EVmWtjrw0C5tL7WbRtQeNkt72008xLCSuFYxvI4Yg89QD0xWnaRzQ2UEd1P9onSNVkm2BPMYDlto4GTzjtQ7XZmr2X9dv6/MrapaX13FF/ZupNYTRShyfJSVJR3R1PO0/7LKc456g4+veKJtE8UadayLD/AGdJbTTXcjAmSMgqExzjBY46HJI6V01ZlxokN3rgv7oRTRi28gQSRBufMD7sn3UcY6jOaXVf10/zB7O2+n5/5XMKx8Wai3gK51PULeAarHdT2UUEAIR5xO0MS8knk7cn6ngVW8TeJr3w3qGi6VceJdF0wT2Usk+pa1ACs0kZiXChZYlBbezYHpwK1LfwvcRazayS3STWNvd3V+EwQxnlJ2DHTaqvJ35JBwMVpz6R53imz1jz8fZbSe28nZ97zHibduzxjysYxzn25as7N6f8N/n+hel38/z/AMhscF/c3Gn31vrMb2/kgXEMduphuQVyJEOdyHOCPnZduRgkhhqUVg6z/b0viLRotG3wWMczS6jM4iMcsW1gIhkmQPuKkEADAOW7FN6k9DeqitpfJrb3X9pM9jJFtNlJAv7txjDI4wQDzkNuzxgrgg3qKAPPZfH2pix1Bo4LP7Rb6o0US7WINmk7RM5+bl8xsOMAFl49VsvHGpXPjL+zY77R7wf2nLZy6Vbwv9stYV3YndvNYbchesag7wAc4zuv4Pibw3d6as0SXNw05F6tuAyCWYykDnOMkd+SM0n/AAiJjkt7i2vvKu7fVJb6OYwkjZKx8yEjcMgqxGc8EK2OMUvtrt/wV+l/x6hLW9l6fj+tv6udKTgGuB8OeK/Ec2m+HtX11tMuLDXCsZSztZIJLR2UshLNK4kX5Sp4UgkHnkV3xGQRXE6F4CvbKz0iw1vWob/T9GX/AES3trI229tpQNKxkfeQGOAu0ZOSDxha30/ruVpyu5raX4vt9U1CG2OnahZxXau9jdXKRiO8VeSU2uWXg7gHVSRyBwcQ+F7m/jv/ABFZalqdzqa6feokMs8UQkCNbxSFcRIoPLnHGfrWf4T+HUHhO/SS0h8PmKCJooJ4tDWG9x0BknWTDnHDYRd3Xip7Dwpr0cmvf2n4gtHTWkO9rDTpLaWCTyliV0czvjCoDjGc85HSq2Tt2/G4Rte0i2fGaQpqH2/RNVsprK1a8EEqwu9xCpILR+XIwOP7rFW5HHNXn1WDUr6TR7G4uIp5LEXP2y3VGECuSqEbwRuOGIBUj5Tn35jw94Ht/BF1ca1cmwZRZfZZLfRdCaHzF3Kd5RGkkkfg569eAOc6vgHRptJ8Og3aypLO5Mcc334bdTtgjb0Kxhcj1LZ5p2X9fP8A4D+8jX+vl/wV9x0FhFdQafDFqF0t3couJJ0i8sSH125OD644z0x0qxUN3LJBZzSw28tzIiFlhhKB5Djou8hcn3IHvWb4Ui1uHwzaJ4ouFudUwxmkCqvBYlQQg27gpUHbxkHGetLcNi5qtreXlg0em6i+nXIIZJ1iSUZH8LKw5U9wCpx0ZTzWT4k1+70O60dI/s7RXE5F40inKxBfmZfm4wSCSc8A/WuirM1HRYdT1K0uLry5YIIpopLeWIOsokAUg54xgEEYOc0ndbFHD3fxD1BG2T6loehxtqr2wvNShZolh+zLPHnM0fzkOAeQPQVo3/iTxL/wrq1160/s+yvAyrPHdWUsiSgyiMOg81GQEHeAd3BAz3rVXweo8TPqrXYaJ7trj7MYflwbVbfZnP8As7s474x3qlfeDNVl8GReHNP1y1ht4ZfklubB5mWFXDRR8TLyoUKWOcgdAeab2svL/gi63Oss1uks4l1CaGe5C/vJIIjEjH1ClmIHtuP1rnvGmo69pcWnzaFd6dCtxeQ2ki3tlJOcyuFDArMmMZzjBz6iuhs1uks4l1CaGe5C/vJIIjEjH1ClmIHtuP1rD8WaDq2vpZR6XqtlYR21zHdMLiwe4LvG4ZcFZkwMjkYJPqKPtL1X3dfwFryu3YzbvVfFsmv6lY6TcaOw0uzt53juLKXN07hyyhxN+6B2YGVfGe+K2dJubjXI9L1+x1CSLTr2zSVtPmgQjDruVgwwyuMgHJZSB0B5rMvfCmu3GsXt5aeIbWzTUrWC2vNmnM0o2bgWhcy4QkOcblfHHWul06wttK0u10+xj8q2tIVhhTOdqKAAPyFPTX+u9/0t+ga/18izRWDf/wBvTeMtLXT98GjwRyPftIIjHc7lwiJyZA6tgngLg9SeK3qQyjb2l9Dq9zPJqTT2UyjZaSQoDAw4Ox1wSp9GDHPRgOK5zSfE1/qnjK606XU9L0/7NPIv9jXFm/22WJeBMshlAKN94MsbAD5c5Bx2Ncve+GtW1jVrOTWtU0+Wwsb1by3httNaKZWQnYDK0zjvhiEUkZHAOKFugezsXofFNlNDp8ixXAGoX8thFlV+WSPzclufu/uWxjJ5HHXGL4Z8bPdJZW2r2d8HvLq4todQkijSCWVHkIjADBs7IzhtgU7fvE9ZLXwVf2+p2LPriPp2n6lNf29qLILIxlEu5Xk3ndgzHaVVeBghjyH6V4Rv7Ga1XU9Xgu9P066lu7W3t7FopN7l8eY5kfeAJGwFVecHtijQT307fjr/AMANN8Q31145uLbUbbUdJtY9M85bK8itirFZMNMJYpXboQNpAHGatad40tL2fbd6ff6XFJbvd21xfIipcwpjc67XYrgMp2yBGwenBxQsvL8UeMbu+js9Qi04aSbF3vLKW0MjPJuIVZVVzhR1xj5hg5BxX0D4ZWejx3NrPbaBJaTWb2fm2ehra3jxsMfvJlcqxK9cIoJ5wOlJc3L56/m/+B/Vh6c77XX5L/gm5p/ia41OwmvLbw3q6wLEJbYym3Q3inpsUy7lJHOJAnB5weKh8F+JdQ8S6LBd6lod1pzSQh/OkaExSkn+AJK7D/gQFXNB0/WtOj+z6tq1pqFtFGscBjsTBLgcZkbzGVjjGdqIM54HSo/Dei6joVu1jPqNtd6dDlbONbNo5o13EgPJ5hD4BAyEXpmm/i02Er21NW+S7exlXTZ4YLoj93JPCZUU+6BlJ/76FcLZ+JfFVx4Q0a+e70cXusXyW8bDTpfLgQh85Tz8ufk67l69K7q+S7kspU06eG3uiP3cs8JlRT7oGUn/AL6Fcda+CNbtvC+m6Z/b+ntcaXeJc2tx/ZThMKG+V08/LZ3nkMv0qdb/AHfnr+BXT7/y0L9hda3qsWraJfX0dhq9g8ZXUNPtx5csbjcjeVLv29GVl3HoSGGRjpohIIUE7K8oUb2RSqscckAk4Htk/WsrQdCk0qS9vL+8+3alqEiyXNwsflJ8q7VREy21AOxJOSSSc0/xM+pp4bvRoEcz6lJE0ds0PlZikIwrkSkKQpwSOeBwD0qm7ISV3qatYXirV7/TbS1g0RIZNTvZjHbrPGzp8qNIxYKQcbUIznqR16HU05LuLS7WPU5UmvFhQXEkYwryBRuIGBwTnsKyda8J22v61aX1/d3qR2kEkcUVndzWrbnKksXidSeFAx05PtgkneyCL0uyO48Z2yafpU+n2F5qs+qW5ube1svL8zygoLOfMdFAG5R1zlgADVa18fxaho2nX+m6BrF5JqFsbtLOJYPNihBwHctKEGcjChix5+Xhsch4n8IzaS2jWMV3qJsbRbwwXcVlfXbxCSRCIW+ySrMflyN7NtIXkE4I008CP4l0fR9QvtL0OzvbW0NoLPUtGF3biAMfLZYTIrQttAO3ecBirbiAQb6r+t/1t8rhotH/AF/X5noGn39tqmm29/YyCW2uYllicAjcrDIODyOKzPEHiX/hHomnl0jUby0hiM11dWqxlLaMdWYO6s2ACcIGOB05GdPT7RLDTba0jjt41giWMJbQ+VEuBjCJk7V9Bk49a4vxn8NB4v1O7uJrvT/LurIWoF7pgu5LUjf88DM4WIncM/KSdo5HGG7c2mw42+0auo+ObPT9QubcabqVzFZvELu7hiTybdZApVyzOCww3IQMwAJIAIJreKfF9zZCe10WwvZ3t7m3huL+IQ+RbM8iZRt7hmOxhnarY3Doely68I/adP1u1+27f7WWMbvKz5WyNU6bvmztz261V1HwZfXl7fi31tbbTr+7hvZrf7GHl82Py+BIWwEIiXI2bs5ww6VOpKbOurk9QvfFNj4n020j1HR7mC+um/0UabKksdsoy7mT7QRkDaudmCzrwM11lZVtopj8TXms3Vx58ksKW9tGE2i3iHLDqclmOSeOAox8uS1uh9GjVJwK4zTPidpeqXFqiabqlvFciJ1uLiKNI0SVWKMx35wTG69CcrnG0hj2ZGQRXE2Pw5S0t7OCXUvNS3gs4WxBt3iASg/xcbvN/DHfNJ3tp5f8EeljS0zxrbald20baXqVnb30bS2F3cpGIrxVG75drllJX5gJFQkA8cHFXSfiPpeqwW901jqNjYXNm95Be3kKpHIkYBkGAxYFQe6gMASpYc0/SvCF9azaemp6yl7Z6RE0WnxJaGKQZTyw0z7yJGCZHyqg+YnHTF+28L26eAYvCt7M09uunCwllQbC6+XsLAc4J69/xqnazt8vx/4ARt9r+vQXR/Eq6remzuNLv9LuDD9ohjvljBnizguux2xgkZVtrDcMjmr2l6l/acM0n2K7s/JuJINt3F5bPsbG9RnlGxkHuKwPCfgxfCs08y2ugFjCI0fStEWxncDnDuJCGzgcAKM88dr/AIUGvmwvJvEz4knvZZLSB1jEltbkjZG5jJUsOeQTwRyTRp/Xr/l/XQnW2v8AWn+f9PVm7RRRSGVE+7+Jp9r96f8A66f+yrTE+7+Jp9r96f8A66f+yrTEWK5fUr7WLbx9olubuJNNvGnT7NHGCX2xbtzuRkHd0C4GM5LZwvUVzmq+EpdV8Q2urf8ACR6taNZsWt7eBLXy49y7W+/CzHcOuWPXjFIHtodHXH3Pj6K08bwaDKdJbz7gWwjj1ZWvY2KFgz22zhDjqHJwykgc47CuWg8B2kGpJcJqup/Zor9tRisN8QhSZmZmPCB2BLscMzAZ4xgYX2l2/r9Bv4XbcqeGta8X3/iDW7fUdO0r7LaX3kgpqTloR9njcKo+zjeCWyWYgjcRghRmbwjq/inUby/XW7DTEtYb2aLzYNQeR49uMIE8hAw/2iwPtWrF4dFt4jn1az1S+t0unEl1Yp5RgncIEDnchcHaqj5XUfKOOuVtPD/2DXLm/tdUvkt7mQyy6f8AujAZCoBcEp5gPAOA4Ge3Jp9U/K3z01/B/wBXCWu3cy/D/i7VdcbT7iTw49rp1+sgjuDc73R1ycugTCxttO192ScZUZFZ1jeaivh3xzJevcW99bTTfKuotcxwH7LG6+SxjjKKNwO3HByc812Gl6XFpGiwabaSS+Vbx+WkjkFwPXpjP4ViWHgj7Iurrc+ItW1CPWEcXSXK2yjc0ax718uFSGCIABnb3wTzUNNwkutmvmXFpNN9zOTxxqOl6dL/AG3oqwyJpLajaBb3zWnSPaHWU7MRv86cAyA5PJxzs6lr18moalpmk2ME13a2EV5G1xcmJG3vIpBIjcjAjz0Oc4461DF4GtHsLq21bU9R1Y3Nm1iJrpokeGFuqp5SIBkgHJBPA5wAKs6R4Vj0vUrrULjU9Q1S7u7eO2mlvXj5RGcrhY0VV/1hHAGcA9ck6TtJO3n+tv0Ih7u/l+l/1MPTvGWrab8OIfEHi2202Hda2zQypqOBPJIAAZS0SLCNzKTjcACfQZLP4lwXXhrWNRiisLufSWjEv9m6iLq1IfG1/PVAVVckuSmVCscEYzqW/gqGHQZNHm1jU7myAj+xrI0Qax8s5jMTpGrEqQv+sL52jOcnNyLRNQj0ma0bxRq0s8jhlvXitPNiAx8qgQBMHH8SE8nnphyabbX9f193YUVZJP5kvhzVn1zRIr9201xKW2vpl99rgYA44l2JnkEHjgim+INcbRbe1W2tftl9fXC2tpbmTy1eQgt8z4O1QqsxOCcDgE4BXQdAh0CG6EdzcXlxeXBubq6udgeaQqq5IRVQfKij5VHTJySSZNa0aHW7SOKWae2mglE9vc27ASQSAEBl3AqeCQQwIIJBBzSla+n9d/6/Ia8/P/gGZda/rVr/AGfYHSLGTXL7zXW2XUH+zpHHjc7TGHd/GgwI+regJqonjPUbpLC2sNBSTU7p7mGWCa9CRW8kDBXzIEYshzwQpPK5UZO2/ceFGurezabXdT/tKyL+TqqrbicK/wB5Coi8oqQBwU/hB6jNS6b4VsdLksZIJJ3lsxOTJIylp3mYNJJJgDLFhnjA5OBjAE6/1/X9PyHp/X9ehyniLxdqGoeHtEFtoWrBdUu44bptOvIYyjBnEkCSGWN92YyN4Cjb/EDxV/xGbyw8PaClpBqFraf2haLcGTWHW7i3zooRm2yiYZfDgyDIGAxrcTwrYx2Gn2gluPL0+9N7ESy5ZyzthuOmZD0wenNN8S+GW8SxwRNreo6bFDKk3l2SwEO6OroxMkTnhlBwCAe4NOOj1/mv8tP+D/Vxb79vx1/4BX1nxLqlpr76PomhDUrhbH7Z5kt35EQG8rsJCMdxx8uAc8524zWRffETUIb9Lez8OGTeVjBurvyGWRrY3AVl2MVwqsG7g7cBsnb1dpo6W2pC/kuri5uvsiWryS7B5gUltxCqBuJY5wAPQCqV54QsL3VGv5ZrkStcfaCFZdu77O1vj7vTY5P1x24qbS5fPX9bfoUrc2u3/AX63OZvvi9plpdKM6YkMcUElzHdaqkN1+9RXxDBtJlwrrn5lycgZIq34r8R6tLHeQaJaRLZ2N7a291fPfNDKrtJGzLHGsZ3Da6gksudxHOOdS28Fpp00T6Nrep6agSJZ4oPIdLkxoEDOJImwxVVUlNuQB6Ci/8ABFpqGoXM76lqUNvdTx3M1lDKixPNHs2yE7d/SNQV3bTjlc81crdP6/rXz2uZx5rK/kdLXPf8JV/oYn+x9dX/ALM2+b/018vf0/HH610NczJ4HtZNUF0dU1MW63y6glisqCFJwcluE3sCckqzEAnIAIGJXxq+3/BX6XHK/I7b/wDAf62K2n+Nb681KxFxoi22nX19Pp8VybwNJ5sXm/N5YXGxhC3O7cDwVxzSaffX0HjbxO2oJKv2eyt54YU1FpoDHmYAiMxL5Tny/mwXB454rWh8LWUMOnxrLcEaffy38WWX5pJPNyG4+7++bGMHgc9c04fBrx+ILzVZfEerXBvIfImtpFtREYxv2L8sIYbTIxB3ZPGSactnbfUuNra+X5/5GNp3xJvru6t1u/Dy2sNwcK4vw7Ddam5jBUIOdqsG5wpK4L5O2zD8Qpbe3ju9e0f7BZ3OlyanamK5E8rJGELo6BQFbEi4Cs4POSOlW5PAljBbI1rLdPNbAPCrOuGZbVrZQflHG1s9ufbioNC8Bwjw/BB4nurzVpn0sWDw3bRBbeN0USRp5KoOSoG47m+UYano2+3/AA//AACFf3b9tfXT8BLvxvqejWl+3iDQoLe4g0ubUraK1vzOsyRY3ozGJSjAunQMOeDxVpPEHiS4tr0Dw3FaTC1W5szcXx2OpJBSVliYRyqACVG8HIw3U0HwHbXFnew6rq2papJd2L2C3N0YRJbwP95U2RqMkhSSwYnauScV05jUxeWwypXaQe4pSV46b/8AD/8AAKTSt/Xb/gnJeHPEGut4Ci1nxHa6ZERYRXCTjUSFlymWeYtCiwjoTjfgZxnABqWPxKF7ot3dW1lZahc2t/b2WzSdTS5hlMxQKyzFVGRv5BAxt9wa0V8Cwf8ACOyaJNrWqT2QMJtFk8gtZeUwaPyyIgWwVX/Wb87RnPOZbfwVaxidrrU9Rvp7i7t7uWe4kj3M8BBQAKgVV+UAhQB16Ek1UmnO/S6+6/8AX6eWdmoWW/8AwP8AMxtY8W+JB4Z1VrLS7G11XTLyO2uVOoM8aqyxurxsYPnyJACGVcc9cDPULd65H4fubm50m1fU40dobG0vi6TED5V81402knjlcD3qO48L2N1DrUUrz7dZdZJyHAMbLGkYKEDjAjU855/KpF0WdvD9zpl1rmpXMlwjp9vJiiuIwwxlDFGqgjqDtzn1qH5dl95ppdGjA8kltG88XkysgLx7t2w45GR1x61yuv8Aip9C8faVZXBvH0+5026leGz0+W6YypJAFYiJGcAB3GeBzzziuqgi8i2jh8x5PLQLvkbLNgYyT3NU5dGt5vEltrbPKLm2tZbVEBGwpI0bMSMZzmJcc9zVq3Nfpr+TJ+z/AF3OJsPiDcweCbfVry40vzbm/vYkfW78aWvlx3EiogzGW3hQo2lQeDuIPXWXxveajbaY/hzRVvH1HTP7ST7VeCBI0yvyswVzu+fjAIyOSBzUi/D6zt5rebTtV1Oxmha63SwNCWlS4m86SMlozgbuhXawHfPNaGk+E7HRo7BLWW5cWOn/ANnRea4JMeVOW45b5Rz068Upa3t/Wj/W39bt+X9a/wCV/wCtue1rxnqGqeF7iXwtYRuzaKNQmmub1rY2ySxsY9m2Nyz/ACsf4QMDnnjp47zUI4NGW2sDeRXIAu7gzhDbr5ZIfB5fLALgc/NntWPJ8OrA2EVlb6pqlrbDTo9NuI4JkX7VCikJvbZuVhublCmc4ORxV3U9F1W61fQl0++ay03TZPOneO4bzLoBCghaMLtKHIYsW4K8L3A7c7ts7fm/0B7el/0/rsdDRRRSAKKKKACiiigAooooAKKKKACiiigAooooAKKKKACiiigAooooAKKKKACiiigAooooAKKKKACiiigAooooAKKKKACiiigAooooAKKKKACiiigAooooAKKKKACiiigAooooAKKKKAKifd/E0+1+9P8A9dP/AGVaYn3fxNPtfvT/APXT/wBlWmIsVyerC9t/iL4fc6lcG3uWuE+yI2yIKsOfmUffbdzls44wByT1lYOo+DNI1XWo9VvDqRu4TmJotWuokjOMHaiSBVyBg4HPfOakGro3q4zQR4pk8Z62l3rWnzWNvdRBoBp0obaYVICMbghOoz8pycnAzgdD4e8Q6X4q0G31nQbn7Xp9zu8qby2TdtYoflYAj5lI5Hamy+HdOl15dZ23MV6FVWaC8miSULnb5kasEkxuP3gaLapj6HKaN461XVfEdusdo8um3VzLAI00a8jNui7tsrXTDyXBKDKgLjfwzbfmn0PxJ4jvptGm1E6XHba1FKIYoIJC8EiJuV2cvh1IVsqFUjIG5sZO/aeFNKsNWbUbJby3laRpGhiv51tyzZ3N9nD+Vkkkn5eWO7rzVm30HTbWPT0gttq6bu+yjzGPl5Uqep54JHOaNbIHe+hzfg2TxGE1G513W9OurOC9ukZRZSRMpVzyJGncKgx93acDvxVXQvGWqa1r8mlwXdtJ9qsZLuyum0O7t44trouD5rgXCkSKd0ZTp23DHUR+GNLi1W61COKdZbwN9oiF3L5EhZQpJg3eXuIAy23PvUGj+DND0K+jvNPt7j7TFA1tHLcXs1wyREqTGvmO2Fyi4A4HOMZOSGllLtb52/zsD3du5l+Bf+EmuPCsc+p6zYXTSwuIG+wSh0k3sAzsZ23j/ZG0471T8OzXujfDfVJ9KtLN72yv713ihjlEdwUuX8wqrSMys4DYG4gMR24rpLbwppdmb37J9tgW9DiWOLUbhUTcSWMaB9sRJJOUCnJ60uheFtM8OJcJpYvAlwxeRbnUJ7kFiSWYCV2wSWJJGMnrmhXS87DVrfP+v6/zMTWPGs9naalfaesM9jCtrBausEszNcTEclY8s6BZIjtUbjkjIq94P13UdZS9j1SCQm2kUR3Z0u4sEuFZc8RT5YFSCDgsDwcjJAvp4X0ePw++iCzB06QkmFpHYglt2QxO4EHBUg/LhduMDE+k6NbaLbvDZy3siu24m8v57pgcY4aV2IHsDiq01FroVvFGsf2Lo/nJdRW08siwwtJay3RZz2WGLDyHAPyqRwCc4Brjr3xH4g1vwDPdaffQWF5Z6mlrPM+mXEJmHmx4KxPIkkWQ4yrFsjI6EGu51jRLHXrSO31KOVlilEsTwzyQSRuAQGWSNlZTgkcEcEjoarW/hLRLXQ7vR4bL/Qb1ma4R5ndpGYAM5csW3HAO7Oc85zzU2unf5fh/wQfS3z/H/gGD4sHi210LTfJ13TY7o6lbRzSxabKiuGnQKAv2jIHJ3Ak7gcfLV3U9R8TWFxoml28ml3V9ftOtxdtbSRRRBV3B1i8xi2OAV38/3lrUPhnTH0F9HnW6ubR23H7TfTTShgQwYSu5kBBAIIYEEDGKltdBsbMWewXEr2O/yJLm7lnkXf8Aey8jFm/4ETjtim/ht5/5Ctrf+upyfipNYu/CGmS6/b6dvg1S2F3bNFIVmP2tEjliZJgY+ofa2/qFPQ5ua4usP8Q7VNBmsbeY6RMWmvYXmVR50fARWQnPruGPQ9K2te8L6Z4lSJNW+2skLBlS31Ce2UkMGBIidQxBUEE5wRxiob7wbpGotaNdf2gXtIDbxyR6pcxu0ZIJV2WQGTOBneWzR/m/xVhys429Pwaf+Zj6T42vdUs57k2sEOzQINTWPJbErmYMu4H5k/djGADyfXipcXPiu+8baIdO1nTrSC80ea4FvLp8sqAg2+7cBcKGOXO04G0EjnOa6PUvBXh/VjH9tsPkjt/svlQzyQxyQ9o3RGCugycKwIGTjGTU2o+FtK1SGzjuI7iM2K7LeW1vJreWNSACvmRurFSAMgnBwCegpp+9zf11/wA19w29dNv+G/VP7zlta8d6paeIr600y1kuI9Mkjilt4tFvLlrtmRXYLPH+7hwrgAPu567Rg1p6r4j1Kw8ZQ2dzNDpulN5QSe40yadblmJBX7QkgjgOdqgSA5JGM5xWpd+FNKvNUGouLyC6wod7TUJ7fzdv3fMEbqJMdPmB446UXvhXS9R1QX98LyeQOj+Q+oXBt9yYKnyN/lHBAP3eoz15pLoLubNcpHptjZ/Fc3NpZ28Fxd6TI1xLFEqvMwljALkDLEDjmurrD/4RDSj4iGuFtR+3gnDf2rdeWATkr5fmbNuQDt27eOlC0kn6/imhSV4ten4NM5vRvHOrar4it1itHm066uZYBEujXkZt0UNtla7YeS4JQZUAY38M235quhWuq6z8SNbvda8PaAbnT5ooIb1rt7mWxH2dXURBoFyC0hJw0f3j1wCextPCmlWGrtqNkt5bytI0hhiv51ty7Z3N9nD+Vkkkn5eWO7rzV+10y0sr29u7aLZPfSLJcPuJ3sqBAcE4HyqBxjpSS2uVdanMeB/+Emle+k1nWLG8to7+5i8uOwkjkyshA2u07gIOy7TgcZrpNO/tTzr7+1vsfl/aT9j+zbs+RtXHmbv4927pxjHvUFt4d06z1ufVbVbmK5uCWlRbyYQuxABbyd3l7iAPm2596n07R7HSpr6Wwg8p7+5N1cnezeZKVVS3JOOFUYGBxRHRJPtb56f1+Anu/Uj8QW+pXXh2+g0K4S21GSBlt5pDgI5HBzg4+uDjrg9K4ObUI7HwN4ptLe28QaTrVtpvny29/qst1IoKsFkhmMzgAsGGVZTleQOK9GvbOLULKW1naZI5RhmgneFx9HQhl+oIrIh8F6HDp9/Zm3uJ01GLybqW5vp55pI8EBPNdy4UZOAGABJIwSaa6/1/X4g9jBGl6tJ4R1KHw9p2uaXfSPEQmta00zToGBkWOUTzmEsm5dwwQSD2yNTwldWrWWoWOnW+q2eoWr/v7TW7yW5kidlyh8xpJAUIGfkcjr0ORVyLwjpsOnz2SXOsGKdlZ2bW7xpBt6bZDLvQeoUgHvmli8NQaZo97a6CVgubvl7m/Mt6ztjbmRnkDvhRgAvwMY44ok3Z2CPRM0dL/tD+ybX+2vs39oeUv2n7Ju8rzMfNs3c7c9M81arL8NaDb+GPDOn6JZSSywWMKwo8zZZgO5/w7VqU5Wu7CV7ahRRRSGFFFFABRRRQAUUUUAFFFFABRRRQAUUUUAFFFFABRRRQAUUUUAFFFFABRRRQAUUUUAFFFFABRRRQAUUUUAFFFFABRRRQAUUUUAFFFFABRRRQAUUUUAFFFFABRRRQAUUUUAFFFFABRRRQAUUUUAFFFFAFRPu/iafa/en/AOun/sq0UUxFiiiikM82/Z8/5IT4e/7ef/SmWvSaKKACiiigAooooAKKKKACiiigAooooAKKKKACiiigAooooAKKKKACiiigAooooAKKKKACiiigAooooAKKKKACiiigAooooAKKKKACiiigAooooAKKKKACiiigAooooAKKKKACiiigAooooAKKKKACiiigAooooAKKKKACiiigAooooAKKKKACiiigAooooAKKKKACiiigAooooAKKKKACiiigAooooAKKKKACiiigAooooA//2Q==)"
      ],
      "metadata": {
        "id": "QhjIQMy1wfHu"
      }
    },
    {
      "cell_type": "markdown",
      "source": [
        "**Correlation between Variables**"
      ],
      "metadata": {
        "id": "3cQOSsOE5889"
      }
    },
    {
      "cell_type": "code",
      "source": [
        "#Correlation Table\n",
        "df.corr()"
      ],
      "metadata": {
        "colab": {
          "base_uri": "https://localhost:8080/",
          "height": 363
        },
        "id": "N4eVipfs_vkT",
        "outputId": "2455b190-f143-4103-a635-bec21c2b82b3"
      },
      "execution_count": null,
      "outputs": [
        {
          "output_type": "execute_result",
          "data": {
            "text/plain": [
              "             Visit  MR Delay       Age      EDUC       SES      MMSE  \\\n",
              "Visit     1.000000  0.920009  0.183213  0.024615 -0.051622 -0.029078   \n",
              "MR Delay  0.920009  1.000000  0.205357  0.051630 -0.030813  0.065844   \n",
              "Age       0.183213  0.205357  1.000000 -0.027886 -0.046857  0.055612   \n",
              "EDUC      0.024615  0.051630 -0.027886  1.000000 -0.722647  0.194884   \n",
              "SES      -0.051622 -0.030813 -0.046857 -0.722647  1.000000 -0.149219   \n",
              "MMSE     -0.029078  0.065844  0.055612  0.194884 -0.149219  1.000000   \n",
              "CDR       0.002325 -0.062915 -0.026257 -0.153121  0.076160 -0.686519   \n",
              "eTIV      0.117428  0.119624  0.042348  0.257015 -0.261575 -0.032084   \n",
              "nWBV     -0.126682 -0.105586 -0.518359 -0.012200  0.090095  0.341912   \n",
              "ASF      -0.120399 -0.123545 -0.035067 -0.241752  0.255576  0.040052   \n",
              "\n",
              "               CDR      eTIV      nWBV       ASF  \n",
              "Visit     0.002325  0.117428 -0.126682 -0.120399  \n",
              "MR Delay -0.062915  0.119624 -0.105586 -0.123545  \n",
              "Age      -0.026257  0.042348 -0.518359 -0.035067  \n",
              "EDUC     -0.153121  0.257015 -0.012200 -0.241752  \n",
              "SES       0.076160 -0.261575  0.090095  0.255576  \n",
              "MMSE     -0.686519 -0.032084  0.341912  0.040052  \n",
              "CDR       1.000000  0.022819 -0.344819 -0.029340  \n",
              "eTIV      0.022819  1.000000 -0.210122 -0.988877  \n",
              "nWBV     -0.344819 -0.210122  1.000000  0.213476  \n",
              "ASF      -0.029340 -0.988877  0.213476  1.000000  "
            ],
            "text/html": [
              "\n",
              "  <div id=\"df-66588130-841b-4264-9759-058dc0ccbfd0\">\n",
              "    <div class=\"colab-df-container\">\n",
              "      <div>\n",
              "<style scoped>\n",
              "    .dataframe tbody tr th:only-of-type {\n",
              "        vertical-align: middle;\n",
              "    }\n",
              "\n",
              "    .dataframe tbody tr th {\n",
              "        vertical-align: top;\n",
              "    }\n",
              "\n",
              "    .dataframe thead th {\n",
              "        text-align: right;\n",
              "    }\n",
              "</style>\n",
              "<table border=\"1\" class=\"dataframe\">\n",
              "  <thead>\n",
              "    <tr style=\"text-align: right;\">\n",
              "      <th></th>\n",
              "      <th>Visit</th>\n",
              "      <th>MR Delay</th>\n",
              "      <th>Age</th>\n",
              "      <th>EDUC</th>\n",
              "      <th>SES</th>\n",
              "      <th>MMSE</th>\n",
              "      <th>CDR</th>\n",
              "      <th>eTIV</th>\n",
              "      <th>nWBV</th>\n",
              "      <th>ASF</th>\n",
              "    </tr>\n",
              "  </thead>\n",
              "  <tbody>\n",
              "    <tr>\n",
              "      <th>Visit</th>\n",
              "      <td>1.000000</td>\n",
              "      <td>0.920009</td>\n",
              "      <td>0.183213</td>\n",
              "      <td>0.024615</td>\n",
              "      <td>-0.051622</td>\n",
              "      <td>-0.029078</td>\n",
              "      <td>0.002325</td>\n",
              "      <td>0.117428</td>\n",
              "      <td>-0.126682</td>\n",
              "      <td>-0.120399</td>\n",
              "    </tr>\n",
              "    <tr>\n",
              "      <th>MR Delay</th>\n",
              "      <td>0.920009</td>\n",
              "      <td>1.000000</td>\n",
              "      <td>0.205357</td>\n",
              "      <td>0.051630</td>\n",
              "      <td>-0.030813</td>\n",
              "      <td>0.065844</td>\n",
              "      <td>-0.062915</td>\n",
              "      <td>0.119624</td>\n",
              "      <td>-0.105586</td>\n",
              "      <td>-0.123545</td>\n",
              "    </tr>\n",
              "    <tr>\n",
              "      <th>Age</th>\n",
              "      <td>0.183213</td>\n",
              "      <td>0.205357</td>\n",
              "      <td>1.000000</td>\n",
              "      <td>-0.027886</td>\n",
              "      <td>-0.046857</td>\n",
              "      <td>0.055612</td>\n",
              "      <td>-0.026257</td>\n",
              "      <td>0.042348</td>\n",
              "      <td>-0.518359</td>\n",
              "      <td>-0.035067</td>\n",
              "    </tr>\n",
              "    <tr>\n",
              "      <th>EDUC</th>\n",
              "      <td>0.024615</td>\n",
              "      <td>0.051630</td>\n",
              "      <td>-0.027886</td>\n",
              "      <td>1.000000</td>\n",
              "      <td>-0.722647</td>\n",
              "      <td>0.194884</td>\n",
              "      <td>-0.153121</td>\n",
              "      <td>0.257015</td>\n",
              "      <td>-0.012200</td>\n",
              "      <td>-0.241752</td>\n",
              "    </tr>\n",
              "    <tr>\n",
              "      <th>SES</th>\n",
              "      <td>-0.051622</td>\n",
              "      <td>-0.030813</td>\n",
              "      <td>-0.046857</td>\n",
              "      <td>-0.722647</td>\n",
              "      <td>1.000000</td>\n",
              "      <td>-0.149219</td>\n",
              "      <td>0.076160</td>\n",
              "      <td>-0.261575</td>\n",
              "      <td>0.090095</td>\n",
              "      <td>0.255576</td>\n",
              "    </tr>\n",
              "    <tr>\n",
              "      <th>MMSE</th>\n",
              "      <td>-0.029078</td>\n",
              "      <td>0.065844</td>\n",
              "      <td>0.055612</td>\n",
              "      <td>0.194884</td>\n",
              "      <td>-0.149219</td>\n",
              "      <td>1.000000</td>\n",
              "      <td>-0.686519</td>\n",
              "      <td>-0.032084</td>\n",
              "      <td>0.341912</td>\n",
              "      <td>0.040052</td>\n",
              "    </tr>\n",
              "    <tr>\n",
              "      <th>CDR</th>\n",
              "      <td>0.002325</td>\n",
              "      <td>-0.062915</td>\n",
              "      <td>-0.026257</td>\n",
              "      <td>-0.153121</td>\n",
              "      <td>0.076160</td>\n",
              "      <td>-0.686519</td>\n",
              "      <td>1.000000</td>\n",
              "      <td>0.022819</td>\n",
              "      <td>-0.344819</td>\n",
              "      <td>-0.029340</td>\n",
              "    </tr>\n",
              "    <tr>\n",
              "      <th>eTIV</th>\n",
              "      <td>0.117428</td>\n",
              "      <td>0.119624</td>\n",
              "      <td>0.042348</td>\n",
              "      <td>0.257015</td>\n",
              "      <td>-0.261575</td>\n",
              "      <td>-0.032084</td>\n",
              "      <td>0.022819</td>\n",
              "      <td>1.000000</td>\n",
              "      <td>-0.210122</td>\n",
              "      <td>-0.988877</td>\n",
              "    </tr>\n",
              "    <tr>\n",
              "      <th>nWBV</th>\n",
              "      <td>-0.126682</td>\n",
              "      <td>-0.105586</td>\n",
              "      <td>-0.518359</td>\n",
              "      <td>-0.012200</td>\n",
              "      <td>0.090095</td>\n",
              "      <td>0.341912</td>\n",
              "      <td>-0.344819</td>\n",
              "      <td>-0.210122</td>\n",
              "      <td>1.000000</td>\n",
              "      <td>0.213476</td>\n",
              "    </tr>\n",
              "    <tr>\n",
              "      <th>ASF</th>\n",
              "      <td>-0.120399</td>\n",
              "      <td>-0.123545</td>\n",
              "      <td>-0.035067</td>\n",
              "      <td>-0.241752</td>\n",
              "      <td>0.255576</td>\n",
              "      <td>0.040052</td>\n",
              "      <td>-0.029340</td>\n",
              "      <td>-0.988877</td>\n",
              "      <td>0.213476</td>\n",
              "      <td>1.000000</td>\n",
              "    </tr>\n",
              "  </tbody>\n",
              "</table>\n",
              "</div>\n",
              "      <button class=\"colab-df-convert\" onclick=\"convertToInteractive('df-66588130-841b-4264-9759-058dc0ccbfd0')\"\n",
              "              title=\"Convert this dataframe to an interactive table.\"\n",
              "              style=\"display:none;\">\n",
              "        \n",
              "  <svg xmlns=\"http://www.w3.org/2000/svg\" height=\"24px\"viewBox=\"0 0 24 24\"\n",
              "       width=\"24px\">\n",
              "    <path d=\"M0 0h24v24H0V0z\" fill=\"none\"/>\n",
              "    <path d=\"M18.56 5.44l.94 2.06.94-2.06 2.06-.94-2.06-.94-.94-2.06-.94 2.06-2.06.94zm-11 1L8.5 8.5l.94-2.06 2.06-.94-2.06-.94L8.5 2.5l-.94 2.06-2.06.94zm10 10l.94 2.06.94-2.06 2.06-.94-2.06-.94-.94-2.06-.94 2.06-2.06.94z\"/><path d=\"M17.41 7.96l-1.37-1.37c-.4-.4-.92-.59-1.43-.59-.52 0-1.04.2-1.43.59L10.3 9.45l-7.72 7.72c-.78.78-.78 2.05 0 2.83L4 21.41c.39.39.9.59 1.41.59.51 0 1.02-.2 1.41-.59l7.78-7.78 2.81-2.81c.8-.78.8-2.07 0-2.86zM5.41 20L4 18.59l7.72-7.72 1.47 1.35L5.41 20z\"/>\n",
              "  </svg>\n",
              "      </button>\n",
              "      \n",
              "  <style>\n",
              "    .colab-df-container {\n",
              "      display:flex;\n",
              "      flex-wrap:wrap;\n",
              "      gap: 12px;\n",
              "    }\n",
              "\n",
              "    .colab-df-convert {\n",
              "      background-color: #E8F0FE;\n",
              "      border: none;\n",
              "      border-radius: 50%;\n",
              "      cursor: pointer;\n",
              "      display: none;\n",
              "      fill: #1967D2;\n",
              "      height: 32px;\n",
              "      padding: 0 0 0 0;\n",
              "      width: 32px;\n",
              "    }\n",
              "\n",
              "    .colab-df-convert:hover {\n",
              "      background-color: #E2EBFA;\n",
              "      box-shadow: 0px 1px 2px rgba(60, 64, 67, 0.3), 0px 1px 3px 1px rgba(60, 64, 67, 0.15);\n",
              "      fill: #174EA6;\n",
              "    }\n",
              "\n",
              "    [theme=dark] .colab-df-convert {\n",
              "      background-color: #3B4455;\n",
              "      fill: #D2E3FC;\n",
              "    }\n",
              "\n",
              "    [theme=dark] .colab-df-convert:hover {\n",
              "      background-color: #434B5C;\n",
              "      box-shadow: 0px 1px 3px 1px rgba(0, 0, 0, 0.15);\n",
              "      filter: drop-shadow(0px 1px 2px rgba(0, 0, 0, 0.3));\n",
              "      fill: #FFFFFF;\n",
              "    }\n",
              "  </style>\n",
              "\n",
              "      <script>\n",
              "        const buttonEl =\n",
              "          document.querySelector('#df-66588130-841b-4264-9759-058dc0ccbfd0 button.colab-df-convert');\n",
              "        buttonEl.style.display =\n",
              "          google.colab.kernel.accessAllowed ? 'block' : 'none';\n",
              "\n",
              "        async function convertToInteractive(key) {\n",
              "          const element = document.querySelector('#df-66588130-841b-4264-9759-058dc0ccbfd0');\n",
              "          const dataTable =\n",
              "            await google.colab.kernel.invokeFunction('convertToInteractive',\n",
              "                                                     [key], {});\n",
              "          if (!dataTable) return;\n",
              "\n",
              "          const docLinkHtml = 'Like what you see? Visit the ' +\n",
              "            '<a target=\"_blank\" href=https://colab.research.google.com/notebooks/data_table.ipynb>data table notebook</a>'\n",
              "            + ' to learn more about interactive tables.';\n",
              "          element.innerHTML = '';\n",
              "          dataTable['output_type'] = 'display_data';\n",
              "          await google.colab.output.renderOutput(dataTable, element);\n",
              "          const docLink = document.createElement('div');\n",
              "          docLink.innerHTML = docLinkHtml;\n",
              "          element.appendChild(docLink);\n",
              "        }\n",
              "      </script>\n",
              "    </div>\n",
              "  </div>\n",
              "  "
            ]
          },
          "metadata": {},
          "execution_count": 37
        }
      ]
    },
    {
      "cell_type": "code",
      "source": [
        "#Correlation plot\n",
        "sns.heatmap(df.corr())"
      ],
      "metadata": {
        "colab": {
          "base_uri": "https://localhost:8080/",
          "height": 324
        },
        "id": "BCtvKM3j_2w0",
        "outputId": "c859b0fd-4e7d-45db-eadc-b22b9f6a64b6"
      },
      "execution_count": null,
      "outputs": [
        {
          "output_type": "execute_result",
          "data": {
            "text/plain": [
              "<matplotlib.axes._subplots.AxesSubplot at 0x7f988596c8d0>"
            ]
          },
          "metadata": {},
          "execution_count": 38
        },
        {
          "output_type": "display_data",
          "data": {
            "text/plain": [
              "<Figure size 432x288 with 2 Axes>"
            ],
            "image/png": "[encoded data removed]"
          },
          "metadata": {
            "needs_background": "light"
          }
        }
      ]
    }
  ]
}